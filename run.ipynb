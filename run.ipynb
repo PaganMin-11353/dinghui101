{
 "cells": [
  {
   "cell_type": "markdown",
   "metadata": {},
   "source": [
    "# Experiment Result Reproduction\n",
    "\n",
    "This notebook includes a centralized procedure for running the experiments that we presented in the project report.\n",
    "\n",
    "* Datasets\n",
    "  * [Movielens 100K](https://grouplens.org/datasets/movielens/100k/).\n",
    "\n",
    "* Datasplit\n",
    "  * 80% of all users will have 75% of their ratings in the train set and the remaining 25% in the test set\n",
    "  * 20% of all users will have 25% of their ratings in the train set and the remaining 75% in the test set (Cold-Start User)\n",
    "  * It is guaranteed that all the user and item nodes are included in the graph of the train set\n",
    "  \n",
    "\n",
    "* Evaluation metrics\n",
    "  * Precision@k.\n",
    "  * Recall@k.\n",
    "  * Normalized discounted cumulative gain@k (NDCG@k).\n",
    "  * Mean-average-precision (MAP). "
   ]
  },
  {
   "cell_type": "code",
   "execution_count": 13,
   "metadata": {},
   "outputs": [
    {
     "name": "stdout",
     "output_type": "stream",
     "text": [
      "The autoreload extension is already loaded. To reload it, use:\n",
      "  %reload_ext autoreload\n"
     ]
    }
   ],
   "source": [
    "%load_ext autoreload\n",
    "%autoreload 2"
   ]
  },
  {
   "cell_type": "code",
   "execution_count": 14,
   "metadata": {},
   "outputs": [],
   "source": [
    "import warnings\n",
    "warnings.filterwarnings(\"ignore\")\n",
    "import logging\n",
    "logging.basicConfig(level=logging.ERROR)\n",
    "\n",
    "import numpy as np\n",
    "import pandas as pd\n",
    "from utils.dataloader import DataLoader \n",
    "from utils.data_split import train_test_split\n",
    "from train_and_evaluate import *"
   ]
  },
  {
   "cell_type": "code",
   "execution_count": 15,
   "metadata": {},
   "outputs": [],
   "source": [
    "def generate_summary(data, algo, k, rating_metrics, ranking_metrics):\n",
    "    summary = {\"Data\": data, \"Algo\": algo, \"K\": k}\n",
    "    if rating_metrics is None:\n",
    "        rating_metrics = {\n",
    "            \"RMSE\": np.nan,\n",
    "            \"MAE\": np.nan,\n",
    "            \"R2\": np.nan,\n",
    "            \"Explained Variance\": np.nan,\n",
    "        }\n",
    "    if ranking_metrics is None:\n",
    "        ranking_metrics = {\n",
    "            \"MAP\": np.nan,\n",
    "            \"nDCG@k\": np.nan,\n",
    "            \"Precision@k\": np.nan,\n",
    "            \"Recall@k\": np.nan,\n",
    "        }\n",
    "    summary.update(rating_metrics)\n",
    "    summary.update(ranking_metrics)\n",
    "    return summary"
   ]
  },
  {
   "cell_type": "code",
   "execution_count": 16,
   "metadata": {},
   "outputs": [],
   "source": [
    "def benchmark_recommenders():\n",
    "    cols = [\"Data\", \"Algo\", \"K\", \"nDCG@k\", \"Precision@k\", \"Recall@k\"]\n",
    "    df_results = pd.DataFrame(columns=cols)\n",
    "    sizes = [\"100k\"]\n",
    "    algos=[\"SVD\", \"Light GCN_l1\",\"Light GCN_l3\" ,\"Ours_l1\", \"Ours_l3\"]\n",
    "    models={\"SVD\":svd_model_train_and_evaluate, \n",
    "            \"Light GCN_l1\":lgcn_model_train_and_evaluate_1layer,\n",
    "            \"Light GCN_l3\":lgcn_model_train_and_evaluate_3layer,  \n",
    "            \"Ours_l1\": lgcn_model_train_and_evaluate_2_1layer,\n",
    "            \"Ours_l3\": lgcn_model_train_and_evaluate_2_3layer}\n",
    "    for size in sizes:\n",
    "        movie_data = DataLoader(size=size)\n",
    "\n",
    "        # Load rating data\n",
    "        data = movie_data.load_ratings()\n",
    "        data = data[['user', 'item', 'rating']]\n",
    "        train_list, test_list = train_test_split(data)\n",
    "\n",
    "        for algo in algos:\n",
    "            ratings, rankings = models[algo](train_set=train_list, test_set=test_list)\n",
    "            summary = generate_summary(size, algo, 10, ratings, rankings)\n",
    "            df_results.loc[df_results.shape[0] + 1] = summary\n",
    "    return df_results\n",
    "\n"
   ]
  },
  {
   "cell_type": "code",
   "execution_count": 17,
   "metadata": {},
   "outputs": [
    {
     "name": "stderr",
     "output_type": "stream",
     "text": [
      "100%|██████████| 1000/1000 [15:39<00:00,  1.06it/s]\n",
      "100%|██████████| 1000/1000 [14:22<00:00,  1.16it/s]\n",
      "100%|██████████| 1000/1000 [09:34<00:00,  1.74it/s]\n",
      "100%|██████████| 1000/1000 [09:09<00:00,  1.82it/s]\n"
     ]
    },
    {
     "data": {
      "text/html": [
       "<div>\n",
       "<style scoped>\n",
       "    .dataframe tbody tr th:only-of-type {\n",
       "        vertical-align: middle;\n",
       "    }\n",
       "\n",
       "    .dataframe tbody tr th {\n",
       "        vertical-align: top;\n",
       "    }\n",
       "\n",
       "    .dataframe thead th {\n",
       "        text-align: right;\n",
       "    }\n",
       "</style>\n",
       "<table border=\"1\" class=\"dataframe\">\n",
       "  <thead>\n",
       "    <tr style=\"text-align: right;\">\n",
       "      <th></th>\n",
       "      <th>Data</th>\n",
       "      <th>Algo</th>\n",
       "      <th>K</th>\n",
       "      <th>nDCG@k</th>\n",
       "      <th>Precision@k</th>\n",
       "      <th>Recall@k</th>\n",
       "    </tr>\n",
       "  </thead>\n",
       "  <tbody>\n",
       "    <tr>\n",
       "      <th>1</th>\n",
       "      <td>100k</td>\n",
       "      <td>SVD</td>\n",
       "      <td>10</td>\n",
       "      <td>0.107541</td>\n",
       "      <td>0.097667</td>\n",
       "      <td>0.034944</td>\n",
       "    </tr>\n",
       "    <tr>\n",
       "      <th>2</th>\n",
       "      <td>100k</td>\n",
       "      <td>Light GCN_l1</td>\n",
       "      <td>10</td>\n",
       "      <td>0.438631</td>\n",
       "      <td>0.377200</td>\n",
       "      <td>0.208013</td>\n",
       "    </tr>\n",
       "    <tr>\n",
       "      <th>3</th>\n",
       "      <td>100k</td>\n",
       "      <td>Light GCN_l3</td>\n",
       "      <td>10</td>\n",
       "      <td>0.398978</td>\n",
       "      <td>0.347296</td>\n",
       "      <td>0.184681</td>\n",
       "    </tr>\n",
       "    <tr>\n",
       "      <th>4</th>\n",
       "      <td>100k</td>\n",
       "      <td>Ours_l1</td>\n",
       "      <td>10</td>\n",
       "      <td>0.338200</td>\n",
       "      <td>0.293849</td>\n",
       "      <td>0.153594</td>\n",
       "    </tr>\n",
       "    <tr>\n",
       "      <th>5</th>\n",
       "      <td>100k</td>\n",
       "      <td>Ours_l3</td>\n",
       "      <td>10</td>\n",
       "      <td>0.342988</td>\n",
       "      <td>0.303181</td>\n",
       "      <td>0.155875</td>\n",
       "    </tr>\n",
       "  </tbody>\n",
       "</table>\n",
       "</div>"
      ],
      "text/plain": [
       "   Data          Algo   K    nDCG@k  Precision@k  Recall@k\n",
       "1  100k           SVD  10  0.107541     0.097667  0.034944\n",
       "2  100k  Light GCN_l1  10  0.438631     0.377200  0.208013\n",
       "3  100k  Light GCN_l3  10  0.398978     0.347296  0.184681\n",
       "4  100k       Ours_l1  10  0.338200     0.293849  0.153594\n",
       "5  100k       Ours_l3  10  0.342988     0.303181  0.155875"
      ]
     },
     "execution_count": 17,
     "metadata": {},
     "output_type": "execute_result"
    }
   ],
   "source": [
    "df_results = benchmark_recommenders()\n",
    "df_results"
   ]
  }
 ],
 "metadata": {
  "kernelspec": {
   "display_name": "recommender",
   "language": "python",
   "name": "recommender"
  },
  "language_info": {
   "codemirror_mode": {
    "name": "ipython",
    "version": 3
   },
   "file_extension": ".py",
   "mimetype": "text/x-python",
   "name": "python",
   "nbconvert_exporter": "python",
   "pygments_lexer": "ipython3",
   "version": "3.11.8"
  }
 },
 "nbformat": 4,
 "nbformat_minor": 2
}
