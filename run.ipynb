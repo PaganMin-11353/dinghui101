{
 "cells": [
  {
   "cell_type": "markdown",
   "metadata": {},
   "source": [
    "# Benchmark with Movielens dataset\n",
    "The main purpose of this notebook is not to produce comprehensive benchmarking results on multiple datasets. Rather, it is intended to evaluate different recommender algorithms(SVD, LightGCN, Transformer and our algorithm) in this repository.\n",
    "\n",
    "* Datasets\n",
    "  * [Movielens 100K](https://grouplens.org/datasets/movielens/100k/).\n",
    "  * [Movielens 1M](https://grouplens.org/datasets/movielens/1m/).\n",
    "\n",
    "* Data split\n",
    "  * TODO\n",
    "  \n",
    "\n",
    "* Evaluation metrics\n",
    "  * Ranking metrics:\n",
    "    * Precision@k.\n",
    "    * Recall@k.\n",
    "    * Normalized discounted cumulative gain@k (NDCG@k).\n",
    "    * Mean-average-precision (MAP). \n",
    "  * Rating metrics:\n",
    "    * Root mean squared error (RMSE).\n",
    "    * Mean average error (MAE).\n",
    "    * R squared.\n",
    "    * Explained variance."
   ]
  },
  {
   "cell_type": "code",
   "execution_count": 1,
   "metadata": {},
   "outputs": [
    {
     "name": "stdout",
     "output_type": "stream",
     "text": [
      "Requirement already satisfied: torch in /Users/sun/.pyenv/versions/3.11.8/lib/python3.11/site-packages (2.5.0)\n",
      "Requirement already satisfied: filelock in /Users/sun/.pyenv/versions/3.11.8/lib/python3.11/site-packages (from torch) (3.16.1)\n",
      "Requirement already satisfied: typing-extensions>=4.8.0 in /Users/sun/.pyenv/versions/3.11.8/lib/python3.11/site-packages (from torch) (4.10.0)\n",
      "Requirement already satisfied: networkx in /Users/sun/.pyenv/versions/3.11.8/lib/python3.11/site-packages (from torch) (3.4.1)\n",
      "Requirement already satisfied: jinja2 in /Users/sun/.pyenv/versions/3.11.8/lib/python3.11/site-packages (from torch) (3.1.4)\n",
      "Requirement already satisfied: fsspec in /Users/sun/.pyenv/versions/3.11.8/lib/python3.11/site-packages (from torch) (2024.9.0)\n",
      "Requirement already satisfied: sympy==1.13.1 in /Users/sun/.pyenv/versions/3.11.8/lib/python3.11/site-packages (from torch) (1.13.1)\n",
      "Requirement already satisfied: mpmath<1.4,>=1.1.0 in /Users/sun/.pyenv/versions/3.11.8/lib/python3.11/site-packages (from sympy==1.13.1->torch) (1.3.0)\n",
      "Requirement already satisfied: MarkupSafe>=2.0 in /Users/sun/.pyenv/versions/3.11.8/lib/python3.11/site-packages (from jinja2->torch) (2.1.5)\n",
      "\n",
      "\u001b[1m[\u001b[0m\u001b[34;49mnotice\u001b[0m\u001b[1;39;49m]\u001b[0m\u001b[39;49m A new release of pip is available: \u001b[0m\u001b[31;49m24.2\u001b[0m\u001b[39;49m -> \u001b[0m\u001b[32;49m24.3.1\u001b[0m\n",
      "\u001b[1m[\u001b[0m\u001b[34;49mnotice\u001b[0m\u001b[1;39;49m]\u001b[0m\u001b[39;49m To update, run: \u001b[0m\u001b[32;49mpip install --upgrade pip\u001b[0m\n",
      "Requirement already satisfied: torch-geometric in /Users/sun/.pyenv/versions/3.11.8/lib/python3.11/site-packages (2.6.1)\n",
      "Requirement already satisfied: aiohttp in /Users/sun/.pyenv/versions/3.11.8/lib/python3.11/site-packages (from torch-geometric) (3.10.10)\n",
      "Requirement already satisfied: fsspec in /Users/sun/.pyenv/versions/3.11.8/lib/python3.11/site-packages (from torch-geometric) (2024.9.0)\n",
      "Requirement already satisfied: jinja2 in /Users/sun/.pyenv/versions/3.11.8/lib/python3.11/site-packages (from torch-geometric) (3.1.4)\n",
      "Requirement already satisfied: numpy in /Users/sun/.pyenv/versions/3.11.8/lib/python3.11/site-packages (from torch-geometric) (1.26.4)\n",
      "Requirement already satisfied: psutil>=5.8.0 in /Users/sun/.pyenv/versions/3.11.8/lib/python3.11/site-packages (from torch-geometric) (5.9.8)\n",
      "Requirement already satisfied: pyparsing in /Users/sun/.pyenv/versions/3.11.8/lib/python3.11/site-packages (from torch-geometric) (3.1.2)\n",
      "Requirement already satisfied: requests in /Users/sun/.pyenv/versions/3.11.8/lib/python3.11/site-packages (from torch-geometric) (2.32.3)\n",
      "Requirement already satisfied: tqdm in /Users/sun/.pyenv/versions/3.11.8/lib/python3.11/site-packages (from torch-geometric) (4.66.5)\n",
      "Requirement already satisfied: aiohappyeyeballs>=2.3.0 in /Users/sun/.pyenv/versions/3.11.8/lib/python3.11/site-packages (from aiohttp->torch-geometric) (2.4.3)\n",
      "Requirement already satisfied: aiosignal>=1.1.2 in /Users/sun/.pyenv/versions/3.11.8/lib/python3.11/site-packages (from aiohttp->torch-geometric) (1.3.1)\n",
      "Requirement already satisfied: attrs>=17.3.0 in /Users/sun/.pyenv/versions/3.11.8/lib/python3.11/site-packages (from aiohttp->torch-geometric) (24.2.0)\n",
      "Requirement already satisfied: frozenlist>=1.1.1 in /Users/sun/.pyenv/versions/3.11.8/lib/python3.11/site-packages (from aiohttp->torch-geometric) (1.5.0)\n",
      "Requirement already satisfied: multidict<7.0,>=4.5 in /Users/sun/.pyenv/versions/3.11.8/lib/python3.11/site-packages (from aiohttp->torch-geometric) (6.1.0)\n",
      "Requirement already satisfied: yarl<2.0,>=1.12.0 in /Users/sun/.pyenv/versions/3.11.8/lib/python3.11/site-packages (from aiohttp->torch-geometric) (1.17.1)\n",
      "Requirement already satisfied: MarkupSafe>=2.0 in /Users/sun/.pyenv/versions/3.11.8/lib/python3.11/site-packages (from jinja2->torch-geometric) (2.1.5)\n",
      "Requirement already satisfied: charset-normalizer<4,>=2 in /Users/sun/.pyenv/versions/3.11.8/lib/python3.11/site-packages (from requests->torch-geometric) (3.3.2)\n",
      "Requirement already satisfied: idna<4,>=2.5 in /Users/sun/.pyenv/versions/3.11.8/lib/python3.11/site-packages (from requests->torch-geometric) (3.7)\n",
      "Requirement already satisfied: urllib3<3,>=1.21.1 in /Users/sun/.pyenv/versions/3.11.8/lib/python3.11/site-packages (from requests->torch-geometric) (2.2.1)\n",
      "Requirement already satisfied: certifi>=2017.4.17 in /Users/sun/.pyenv/versions/3.11.8/lib/python3.11/site-packages (from requests->torch-geometric) (2024.2.2)\n",
      "Requirement already satisfied: propcache>=0.2.0 in /Users/sun/.pyenv/versions/3.11.8/lib/python3.11/site-packages (from yarl<2.0,>=1.12.0->aiohttp->torch-geometric) (0.2.0)\n",
      "\n",
      "\u001b[1m[\u001b[0m\u001b[34;49mnotice\u001b[0m\u001b[1;39;49m]\u001b[0m\u001b[39;49m A new release of pip is available: \u001b[0m\u001b[31;49m24.2\u001b[0m\u001b[39;49m -> \u001b[0m\u001b[32;49m24.3.1\u001b[0m\n",
      "\u001b[1m[\u001b[0m\u001b[34;49mnotice\u001b[0m\u001b[1;39;49m]\u001b[0m\u001b[39;49m To update, run: \u001b[0m\u001b[32;49mpip install --upgrade pip\u001b[0m\n"
     ]
    }
   ],
   "source": [
    "!pip install torch\n",
    "!pip install torch-geometric"
   ]
  },
  {
   "cell_type": "code",
   "execution_count": 2,
   "metadata": {},
   "outputs": [],
   "source": [
    "%load_ext autoreload\n",
    "%autoreload 2"
   ]
  },
  {
   "cell_type": "code",
   "execution_count": 18,
   "metadata": {},
   "outputs": [],
   "source": [
    "import warnings\n",
    "warnings.filterwarnings(\"ignore\")\n",
    "import logging\n",
    "logging.basicConfig(level=logging.ERROR)\n",
    "\n",
    "import numpy as np\n",
    "import pandas as pd\n",
    "from utils.dataloader import DataLoader \n",
    "from utils.data_split import train_test_split\n",
    "from train_and_evaluate import svd_model_train_and_evaluate, lgcn_model_train_and_evaluate"
   ]
  },
  {
   "cell_type": "code",
   "execution_count": 19,
   "metadata": {},
   "outputs": [],
   "source": [
    "def generate_summary(data, algo, k, rating_metrics, ranking_metrics):\n",
    "    summary = {\"Data\": data, \"Algo\": algo, \"K\": k}\n",
    "    if rating_metrics is None:\n",
    "        rating_metrics = {\n",
    "            \"RMSE\": np.nan,\n",
    "            \"MAE\": np.nan,\n",
    "            \"R2\": np.nan,\n",
    "            \"Explained Variance\": np.nan,\n",
    "        }\n",
    "    if ranking_metrics is None:\n",
    "        ranking_metrics = {\n",
    "            \"MAP\": np.nan,\n",
    "            \"nDCG@k\": np.nan,\n",
    "            \"Precision@k\": np.nan,\n",
    "            \"Recall@k\": np.nan,\n",
    "        }\n",
    "    summary.update(rating_metrics)\n",
    "    summary.update(ranking_metrics)\n",
    "    return summary"
   ]
  },
  {
   "cell_type": "code",
   "execution_count": 20,
   "metadata": {},
   "outputs": [],
   "source": [
    "movie_data = DataLoader(size=\"100k\")\n",
    "data = movie_data.load_ratings()"
   ]
  },
  {
   "cell_type": "code",
   "execution_count": 29,
   "metadata": {},
   "outputs": [],
   "source": [
    "def benchmark_recommenders():\n",
    "    cols = [\"Data\", \"Algo\", \"K\", \"RMSE\", \"MAE\", \"R2\", \"Explained Variance\", \"MAP\", \"nDCG@k\", \"Precision@k\", \"Recall@k\"]\n",
    "    df_results = pd.DataFrame(columns=cols)\n",
    "    sizes = [\"100k\"]\n",
    "    algos=[\"svd\",\"lgcn\"]\n",
    "    models={\"svd\":svd_model_train_and_evaluate, \"lgcn\":lgcn_model_train_and_evaluate}\n",
    "    for size in sizes:\n",
    "        movie_data = DataLoader(size=size)\n",
    "        data = movie_data.load_ratings()\n",
    "        data = data[['user', 'item', 'rating']]\n",
    "        train_list, test_list = train_test_split(data)\n",
    "\n",
    "        print(len(train_list), len(test_list))\n",
    "        \n",
    "        for algo in algos:\n",
    "            ratings, rankings = models[algo](train_set=train_list, test_set=test_list)\n",
    "            summary = generate_summary(size, algo, 10, ratings, rankings)\n",
    "            df_results.loc[df_results.shape[0] + 1] = summary\n",
    "    return df_results\n",
    "\n"
   ]
  },
  {
   "cell_type": "code",
   "execution_count": null,
   "metadata": {},
   "outputs": [
    {
     "name": "stdout",
     "output_type": "stream",
     "text": [
      "65575 34425\n",
      " self.train_set size  65575\n"
     ]
    }
   ],
   "source": [
    "df_results = benchmark_recommenders()\n",
    "df_results"
   ]
  },
  {
   "cell_type": "code",
   "execution_count": null,
   "metadata": {},
   "outputs": [],
   "source": []
  }
 ],
 "metadata": {
  "kernelspec": {
   "display_name": "recommender",
   "language": "python",
   "name": "recommender"
  },
  "language_info": {
   "codemirror_mode": {
    "name": "ipython",
    "version": 3
   },
   "file_extension": ".py",
   "mimetype": "text/x-python",
   "name": "python",
   "nbconvert_exporter": "python",
   "pygments_lexer": "ipython3",
   "version": "3.11.8"
  }
 },
 "nbformat": 4,
 "nbformat_minor": 4
 "nbformat_minor": 4
}
