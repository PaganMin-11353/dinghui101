{
 "cells": [
  {
   "cell_type": "code",
   "execution_count": 1,
   "metadata": {},
   "outputs": [],
   "source": [
    "import numpy as np\n",
    "import pandas as pd\n",
    "import matplotlib.pyplot as plt\n",
    "import seaborn as sns\n",
    "from utils.dataloader import DataLoader\n",
    "import torch\n",
    "import networkx as nx\n",
    "from collections import Counter"
   ]
  },
  {
   "cell_type": "code",
   "execution_count": 2,
   "metadata": {},
   "outputs": [
    {
     "name": "stdout",
     "output_type": "stream",
     "text": [
      "Requirement already satisfied: torch in /Users/sun/miniconda3/envs/recommender/lib/python3.9/site-packages (2.5.1)\n",
      "Requirement already satisfied: filelock in /Users/sun/miniconda3/envs/recommender/lib/python3.9/site-packages (from torch) (3.16.1)\n",
      "Requirement already satisfied: typing-extensions>=4.8.0 in /Users/sun/miniconda3/envs/recommender/lib/python3.9/site-packages (from torch) (4.12.2)\n",
      "Requirement already satisfied: networkx in /Users/sun/miniconda3/envs/recommender/lib/python3.9/site-packages (from torch) (3.2.1)\n",
      "Requirement already satisfied: jinja2 in /Users/sun/miniconda3/envs/recommender/lib/python3.9/site-packages (from torch) (3.1.4)\n",
      "Requirement already satisfied: fsspec in /Users/sun/miniconda3/envs/recommender/lib/python3.9/site-packages (from torch) (2024.9.0)\n",
      "Requirement already satisfied: sympy==1.13.1 in /Users/sun/miniconda3/envs/recommender/lib/python3.9/site-packages (from torch) (1.13.1)\n",
      "Requirement already satisfied: mpmath<1.4,>=1.1.0 in /Users/sun/miniconda3/envs/recommender/lib/python3.9/site-packages (from sympy==1.13.1->torch) (1.3.0)\n",
      "Requirement already satisfied: MarkupSafe>=2.0 in /Users/sun/miniconda3/envs/recommender/lib/python3.9/site-packages (from jinja2->torch) (3.0.2)\n",
      "Requirement already satisfied: torch-geometric in /Users/sun/miniconda3/envs/recommender/lib/python3.9/site-packages (2.6.1)\n",
      "Requirement already satisfied: aiohttp in /Users/sun/miniconda3/envs/recommender/lib/python3.9/site-packages (from torch-geometric) (3.11.2)\n",
      "Requirement already satisfied: fsspec in /Users/sun/miniconda3/envs/recommender/lib/python3.9/site-packages (from torch-geometric) (2024.9.0)\n",
      "Requirement already satisfied: jinja2 in /Users/sun/miniconda3/envs/recommender/lib/python3.9/site-packages (from torch-geometric) (3.1.4)\n",
      "Requirement already satisfied: numpy in /Users/sun/miniconda3/envs/recommender/lib/python3.9/site-packages (from torch-geometric) (2.0.2)\n",
      "Requirement already satisfied: psutil>=5.8.0 in /Users/sun/miniconda3/envs/recommender/lib/python3.9/site-packages (from torch-geometric) (6.1.0)\n",
      "Requirement already satisfied: pyparsing in /Users/sun/miniconda3/envs/recommender/lib/python3.9/site-packages (from torch-geometric) (3.2.0)\n",
      "Requirement already satisfied: requests in /Users/sun/miniconda3/envs/recommender/lib/python3.9/site-packages (from torch-geometric) (2.32.3)\n",
      "Requirement already satisfied: tqdm in /Users/sun/miniconda3/envs/recommender/lib/python3.9/site-packages (from torch-geometric) (4.66.5)\n",
      "Requirement already satisfied: aiohappyeyeballs>=2.3.0 in /Users/sun/miniconda3/envs/recommender/lib/python3.9/site-packages (from aiohttp->torch-geometric) (2.4.3)\n",
      "Requirement already satisfied: aiosignal>=1.1.2 in /Users/sun/miniconda3/envs/recommender/lib/python3.9/site-packages (from aiohttp->torch-geometric) (1.3.1)\n",
      "Requirement already satisfied: attrs>=17.3.0 in /Users/sun/miniconda3/envs/recommender/lib/python3.9/site-packages (from aiohttp->torch-geometric) (24.2.0)\n",
      "Requirement already satisfied: frozenlist>=1.1.1 in /Users/sun/miniconda3/envs/recommender/lib/python3.9/site-packages (from aiohttp->torch-geometric) (1.5.0)\n",
      "Requirement already satisfied: multidict<7.0,>=4.5 in /Users/sun/miniconda3/envs/recommender/lib/python3.9/site-packages (from aiohttp->torch-geometric) (6.1.0)\n",
      "Requirement already satisfied: propcache>=0.2.0 in /Users/sun/miniconda3/envs/recommender/lib/python3.9/site-packages (from aiohttp->torch-geometric) (0.2.0)\n",
      "Requirement already satisfied: yarl<2.0,>=1.17.0 in /Users/sun/miniconda3/envs/recommender/lib/python3.9/site-packages (from aiohttp->torch-geometric) (1.17.1)\n",
      "Requirement already satisfied: async-timeout<6.0,>=4.0 in /Users/sun/miniconda3/envs/recommender/lib/python3.9/site-packages (from aiohttp->torch-geometric) (5.0.1)\n",
      "Requirement already satisfied: MarkupSafe>=2.0 in /Users/sun/miniconda3/envs/recommender/lib/python3.9/site-packages (from jinja2->torch-geometric) (3.0.2)\n",
      "Requirement already satisfied: charset-normalizer<4,>=2 in /Users/sun/miniconda3/envs/recommender/lib/python3.9/site-packages (from requests->torch-geometric) (3.4.0)\n",
      "Requirement already satisfied: idna<4,>=2.5 in /Users/sun/miniconda3/envs/recommender/lib/python3.9/site-packages (from requests->torch-geometric) (3.10)\n",
      "Requirement already satisfied: urllib3<3,>=1.21.1 in /Users/sun/miniconda3/envs/recommender/lib/python3.9/site-packages (from requests->torch-geometric) (2.2.3)\n",
      "Requirement already satisfied: certifi>=2017.4.17 in /Users/sun/miniconda3/envs/recommender/lib/python3.9/site-packages (from requests->torch-geometric) (2024.8.30)\n",
      "Requirement already satisfied: typing-extensions>=4.1.0 in /Users/sun/miniconda3/envs/recommender/lib/python3.9/site-packages (from multidict<7.0,>=4.5->aiohttp->torch-geometric) (4.12.2)\n"
     ]
    }
   ],
   "source": [
    "!pip install torch\n",
    "!pip install torch-geometric"
   ]
  },
  {
   "cell_type": "code",
   "execution_count": null,
   "metadata": {},
   "outputs": [],
   "source": [
    "dataset_size = \"100k\" \n",
    "\n",
    "movie_data = DataLoader(size=dataset_size)\n",
    "\n",
    "# Load movie data\n",
    "items_data = movie_data.load_items(\n",
    "    process_title=True, process_year=True, process_genres=True, genres_as_binary=False\n",
    ")\n",
    "\n",
    "users_data= movie_data.load_user_features(True, True)\n",
    "# Load rating\n",
    "ratings = pd.read_csv(\"./data/train_set.csv\")\n",
    "\n",
    "fetched_movies = pd.read_csv(\"./data/fetched_movies.csv\")\n",
    "semantics_info = fetched_movies[['MovieLens_ID', 'Director', 'Actors']]\n",
    "semantics_info = semantics_info.rename(columns={'MovieLens_ID': 'movie_id', 'Actors': 'actors', 'Director': 'director'})\n",
    "\n",
    "items_data = pd.merge(items_data, semantics_info, on='movie_id', how='left')\n",
    "\n",
    "#rename movie_id to item\n",
    "items_data.rename(columns={'movie_id': 'item'}, inplace=True)"
   ]
  },
  {
   "cell_type": "code",
   "execution_count": 6,
   "metadata": {},
   "outputs": [],
   "source": [
    "\n",
    "def getSemanticInfoList(semantic_column):\n",
    "    all_semantic_info = set()\n",
    "    semantic_counter = Counter()\n",
    "\n",
    "    for actors in semantic_column:\n",
    "        if pd.isnull(actors): \n",
    "            continue\n",
    "        actor_list = [actor.strip() for actor in str(actors).split(\",\")]\n",
    "        all_semantic_info.update(actor_list)  # update can add multiple datas to the set\n",
    "        semantic_counter.update(actor_list)\n",
    "\n",
    "    all_semantic_info_list = list(all_semantic_info)\n",
    "    return all_semantic_info_list"
   ]
  },
  {
   "cell_type": "code",
   "execution_count": 7,
   "metadata": {},
   "outputs": [
    {
     "data": {
      "text/plain": [
       "0       Tom Hanks, Tim Allen, Don Rickles, Jim Varney,...\n",
       "1       Pierce Brosnan, Sean Bean, Izabella Scorupco, ...\n",
       "2       Tim Roth, Jennifer Beals, Antonio Banderas, Va...\n",
       "3       John Travolta, Gene Hackman, Rene Russo, Danny...\n",
       "4       Sigourney Weaver, Holly Hunter, Dermot Mulrone...\n",
       "                              ...                        \n",
       "1677                     Aleksei Ananishnov, Gudrun Geyer\n",
       "1678                                                  NaN\n",
       "1679    Gwyneth Paltrow, John Hannah, John Lynch, Jean...\n",
       "1680                                      Martin Lawrence\n",
       "1681    Donald Sutherland, Brad Dourif, Vittorio Mezzo...\n",
       "Name: actors, Length: 1682, dtype: object"
      ]
     },
     "execution_count": 7,
     "metadata": {},
     "output_type": "execute_result"
    }
   ],
   "source": [
    "items_data.actors"
   ]
  },
  {
   "cell_type": "code",
   "execution_count": 9,
   "metadata": {},
   "outputs": [],
   "source": [
    "user_list = list(set(ratings.user.tolist()) | set(users_data.userid))\n",
    "item_list = list(set(ratings.item.tolist()) | set(items_data.item))\n",
    "\n",
    "rate_list = list(set(ratings.rating.tolist()))\n",
    "genre_list = [\"unknown\",\n",
    "        \"Action\",\n",
    "        \"Adventure\",\n",
    "        \"Animation\",\n",
    "        \"Children's\",\n",
    "        \"Comedy\",\n",
    "        \"Crime\",\n",
    "        \"Documentary\",\n",
    "        \"Drama\",\n",
    "        \"Fantasy\",\n",
    "        \"Film-Noir\",\n",
    "        \"Horror\",\n",
    "        \"Musical\",\n",
    "        \"Mystery\",\n",
    "        \"Romance\",\n",
    "        \"Sci-Fi\",\n",
    "        \"Thriller\",\n",
    "        \"War\",\n",
    "        \"Western\",]\n",
    "actor_list = getSemanticInfoList(items_data.actors)\n",
    "director_list = getSemanticInfoList(items_data.director)\n",
    "\n",
    "gender_list = list(set(users_data.gender.tolist()))\n",
    "age_list = list(set(users_data.age.tolist()))\n",
    "\n",
    "occupation_list = list(set(users_data.occupation.tolist()))\n",
    "zipcode_list = list(set(users_data.zipcode.tolist()))\n"
   ]
  },
  {
   "cell_type": "code",
   "execution_count": 10,
   "metadata": {},
   "outputs": [],
   "source": [
    "def item_converting(row, director_list, actor_list):\n",
    "        genre_idx = torch.zeros(1, len(genre_list)).long()\n",
    "        for genre in str(row['genres']).split(\"|\"):\n",
    "            idx = genre_list.index(genre)\n",
    "            genre_idx[0, idx] = 1  # one-hot vector\n",
    "        \n",
    "        director_idx = torch.zeros(1, len(director_list)).long()\n",
    "        director_id = []\n",
    "        for director in str(row['director']).split(\", \"):\n",
    "            if pd.isnull(director) or director.lower() == 'nan': \n",
    "                continue\n",
    "            idx = director_list.index(director)\n",
    "            director_idx[0, idx] = 1\n",
    "            director_id.append(idx+1)  # id starts from 1, not index\n",
    "        actor_idx = torch.zeros(1, len(actor_list)).long()\n",
    "        actor_id = []\n",
    "        for actor in str(row['actors']).split(\", \"):\n",
    "            if pd.isnull(actor) or actor.lower() == 'nan':\n",
    "                continue\n",
    "            idx = actor_list.index(actor)\n",
    "            actor_idx[0, idx] = 1\n",
    "            actor_id.append(idx+1)\n",
    "        return torch.cat((genre_idx,), 1),torch.cat((genre_idx, director_idx, actor_idx), 1), director_id, actor_id\n"
   ]
  },
  {
   "cell_type": "code",
   "execution_count": 11,
   "metadata": {},
   "outputs": [],
   "source": [
    "# hash map for item\n",
    "movie_fea_hete = {}\n",
    "movie_fea_homo = {}\n",
    "m_directors = {}\n",
    "m_actors = {}\n",
    "for idx, row in items_data.iterrows():\n",
    "    # print(f\"Index: {idx}, Item: {row['item']}, Title: {row['title']}, Director: {row['director']}\")\n",
    "    m_info = item_converting(row, director_list, actor_list)\n",
    "    movie_fea_homo[row['item']] = m_info[0] # genre info\n",
    "    movie_fea_hete[row['item']] = m_info[1] # genre, director, actor info\n",
    "    m_directors[row['item']] = m_info[2]\n",
    "    m_actors[row['item']] = m_info[3]"
   ]
  },
  {
   "cell_type": "code",
   "execution_count": 12,
   "metadata": {},
   "outputs": [],
   "source": [
    "def user_converting(row, gender_list, age_list, occupation_list, zipcode_list):\n",
    "        gender_idx = torch.zeros(1, len(gender_list)).long()\n",
    "        for gender in str(row['gender']).split(\",\"):\n",
    "            idx = gender_list.index(gender)\n",
    "            gender_idx[0, idx] = 1  # one-hot vector\n",
    "    \n",
    "        age_idx = torch.zeros(1, len(age_list)).long()\n",
    "        for age in str(row['age']).split(\",\"):\n",
    "            idx = age_list.index(age)\n",
    "            age_idx[0, idx] = 1  # one-hot vector\n",
    "        \n",
    "        occupation_idx = torch.zeros(1, len(occupation_list)).long()\n",
    "        idx = occupation_list.index(int(row['occupation']))\n",
    "        occupation_idx[0, idx] = 1  # one-hot vector\n",
    "        \n",
    "        zipcode_idx = torch.zeros(1, len(zipcode_list)).long()\n",
    "        for zipcode in str(row['zipcode']).split(\",\"):\n",
    "            idx = zipcode_list.index(zipcode)\n",
    "            zipcode_idx[0, idx] = 1  # one-hot vector\n",
    "       \n",
    "        return torch.cat((gender_idx, age_idx, occupation_idx, zipcode_idx), 1) "
   ]
  },
  {
   "cell_type": "code",
   "execution_count": 13,
   "metadata": {},
   "outputs": [],
   "source": [
    "# hash map for user\n",
    "user_fea = {}\n",
    "for idx, row in users_data.iterrows():\n",
    "    u_info = user_converting(row, gender_list, age_list, occupation_list, zipcode_list)\n",
    "    user_fea[row['userid']] = u_info"
   ]
  },
  {
   "cell_type": "code",
   "execution_count": 14,
   "metadata": {},
   "outputs": [],
   "source": [
    "def getUserMovieInteractions(ratings):\n",
    "    user_movie_interactions = {}\n",
    "\n",
    "    for _, row in ratings.iterrows():    \n",
    "        user_id = int(row['user'])\n",
    "        item = int(row['item'])\n",
    "\n",
    "        # Check if user_id exists in the dictionary\n",
    "        if user_id not in user_movie_interactions:\n",
    "            user_movie_interactions[user_id] = []\n",
    "\n",
    "        # Append the item to the user's interaction list\n",
    "        user_movie_interactions[user_id].append(item)\n",
    "\n",
    "    return user_movie_interactions"
   ]
  },
  {
   "cell_type": "code",
   "execution_count": 15,
   "metadata": {},
   "outputs": [],
   "source": [
    "user_movie_interactions = getUserMovieInteractions(ratings) # UM info {u1:[m1,m2], u2:[m2,m3]}"
   ]
  },
  {
   "cell_type": "code",
   "execution_count": 16,
   "metadata": {},
   "outputs": [],
   "source": [
    "import collections\n",
    "def reverse_dict(d):\n",
    "    re_d = collections.defaultdict(list)\n",
    "    for k, v_list in d.items():\n",
    "        for v in v_list:\n",
    "            re_d[v].append(k)\n",
    "    return dict(re_d)"
   ]
  },
  {
   "cell_type": "code",
   "execution_count": 17,
   "metadata": {},
   "outputs": [],
   "source": [
    "a_movies = reverse_dict(m_actors) # actor's movies\n",
    "d_movies = reverse_dict(m_directors) # director's movies\n",
    "movie_user_interactions = reverse_dict(user_movie_interactions)"
   ]
  },
  {
   "cell_type": "code",
   "execution_count": 18,
   "metadata": {},
   "outputs": [
    {
     "name": "stdout",
     "output_type": "stream",
     "text": [
      "943 943 943\n"
     ]
    }
   ],
   "source": [
    "u_m_u_movies = {} #UMUM\n",
    "u_m_a_movies = {} #UMAM {{u1: {m1: {m1,m2,m3}(m1's actor1)}, {m2}}}\n",
    "u_m_d_movies = {} #UMDM\n",
    "\n",
    "for user, movies in user_movie_interactions.items():\n",
    "    u_m_u_movies[user] = {}\n",
    "    u_m_a_movies[user] = {}\n",
    "    u_m_d_movies[user] = {}\n",
    "    for movie in movies:\n",
    "        # Construct UMAM：User->Movie->Actor->Movie\n",
    "        u_m_a_movies[user][movie] = set([movie])\n",
    "        for actor in m_actors.get(movie, []):\n",
    "            actor_movies = a_movies[actor]\n",
    "            u_m_a_movies[user][movie].update(actor_movies)\n",
    "        \n",
    "        u_m_d_movies[user][movie] = set([movie])\n",
    "        # Construct UMDM：User->Movie->Director->Movie\n",
    "        for director in m_directors.get(movie, []):\n",
    "            director_movies = d_movies[director]\n",
    "            u_m_d_movies[user][movie].update(director_movies)\n",
    "        \n",
    "        # Construct UMUM：User->Movie->User->Movie\n",
    "        u_m_u_movies[user][movie] = set([movie])   # add itself to avoid empty tensor when build the support set\n",
    "        u_m_u_movies[user][movie].update(user_movie_interactions[user].copy())\n",
    "        if movie in movie_user_interactions: \n",
    "            for _user in movie_user_interactions.get(movie, []):\n",
    "                user_movies = user_movie_interactions.get(_user, [])\n",
    "                u_m_u_movies[user][movie].update(user_movies)\n",
    "print(len(u_m_u_movies), len(u_m_a_movies), len(u_m_d_movies))\n"
   ]
  },
  {
   "cell_type": "code",
   "execution_count": null,
   "metadata": {},
   "outputs": [],
   "source": [
    "features_hetes_length = len(genre_list)+len(actor_list)+len(director_list)\n",
    "\n",
    "umum_embeddings = {}\n",
    "umam_embeddings = {}\n",
    "umdm_embeddings = {}\n",
    "\n",
    "for u_id in user_list:\n",
    "    umum_features_hetes = torch.zeros(1, features_hetes_length)\n",
    "    umam_features_hetes = torch.zeros(1, features_hetes_length)\n",
    "    umdm_features_hetes = torch.zeros(1, features_hetes_length)\n",
    "    for m_id in user_movie_interactions[u_id]:\n",
    "        #UMUM\n",
    "        for x in u_m_u_movies[u_id][m_id]:\n",
    "            umum_features_hetes += movie_fea_hete[x] # genre, director, actor info\n",
    "        \n",
    "        #UMAM\n",
    "        for x in u_m_a_movies[u_id][m_id]:\n",
    "            umam_features_hetes += movie_fea_hete[x]\n",
    "\n",
    "        #UMDM\n",
    "        for x in u_m_d_movies[u_id][m_id]:\n",
    "            umdm_features_hetes += movie_fea_hete[x]\n",
    "\n",
    "    umum_embeddings[u_id] = umum_features_hetes\n",
    "    umam_embeddings[u_id] = umam_features_hetes\n",
    "    umdm_embeddings[u_id] = umdm_features_hetes\n",
    "    "
   ]
  },
  {
   "cell_type": "code",
   "execution_count": 68,
   "metadata": {},
   "outputs": [
    {
     "data": {
      "text/plain": [
       "tensor([[  195., 39373., 21951.,  ...,    83.,   334.,   152.]])"
      ]
     },
     "execution_count": 68,
     "metadata": {},
     "output_type": "execute_result"
    }
   ],
   "source": [
    "umum_features_hetes"
   ]
  },
  {
   "cell_type": "code",
   "execution_count": null,
   "metadata": {},
   "outputs": [],
   "source": [
    "torch.save(umum_embeddings, \"./data/umum_embeddings.pt\")\n",
    "torch.save(umam_embeddings, \"./data/umam_embeddings.pt\")\n",
    "torch.save(umdm_embeddings, \"./data/umdm_embeddings.pt\")\n",
    "torch.save(user_fea, \"./data/content_based_embeddings.pt\")"
   ]
  },
  {
   "cell_type": "code",
   "execution_count": null,
   "metadata": {},
   "outputs": [],
   "source": [
    "torch.load(\"./data/content_based_embeddings.pt\")"
   ]
  }
 ],
 "metadata": {
  "kernelspec": {
   "display_name": "recommender",
   "language": "python",
   "name": "python3"
  },
  "language_info": {
   "codemirror_mode": {
    "name": "ipython",
    "version": 3
   },
   "file_extension": ".py",
   "mimetype": "text/x-python",
   "name": "python",
   "nbconvert_exporter": "python",
   "pygments_lexer": "ipython3",
   "version": "3.9.20"
  }
 },
 "nbformat": 4,
 "nbformat_minor": 2
}
