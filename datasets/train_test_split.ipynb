{
 "cells": [
  {
   "cell_type": "code",
   "execution_count": 17,
   "metadata": {},
   "outputs": [],
   "source": [
    "import os\n",
    "import pandas as pd\n",
    "import numpy as np\n"
   ]
  },
  {
   "cell_type": "markdown",
   "metadata": {},
   "source": [
    "## Load ratings data"
   ]
  },
  {
   "cell_type": "code",
   "execution_count": 7,
   "metadata": {},
   "outputs": [],
   "source": [
    "data_folder = \"../datasets/ml-latest-small/\""
   ]
  },
  {
   "cell_type": "code",
   "execution_count": 14,
   "metadata": {},
   "outputs": [
    {
     "data": {
      "text/html": [
       "<div>\n",
       "<style scoped>\n",
       "    .dataframe tbody tr th:only-of-type {\n",
       "        vertical-align: middle;\n",
       "    }\n",
       "\n",
       "    .dataframe tbody tr th {\n",
       "        vertical-align: top;\n",
       "    }\n",
       "\n",
       "    .dataframe thead th {\n",
       "        text-align: right;\n",
       "    }\n",
       "</style>\n",
       "<table border=\"1\" class=\"dataframe\">\n",
       "  <thead>\n",
       "    <tr style=\"text-align: right;\">\n",
       "      <th></th>\n",
       "      <th>index</th>\n",
       "      <th>userId</th>\n",
       "      <th>movieId</th>\n",
       "      <th>rating</th>\n",
       "      <th>timestamp</th>\n",
       "    </tr>\n",
       "  </thead>\n",
       "  <tbody>\n",
       "    <tr>\n",
       "      <th>0</th>\n",
       "      <td>0</td>\n",
       "      <td>1</td>\n",
       "      <td>1</td>\n",
       "      <td>4.0</td>\n",
       "      <td>964982703</td>\n",
       "    </tr>\n",
       "    <tr>\n",
       "      <th>1</th>\n",
       "      <td>1</td>\n",
       "      <td>1</td>\n",
       "      <td>3</td>\n",
       "      <td>4.0</td>\n",
       "      <td>964981247</td>\n",
       "    </tr>\n",
       "    <tr>\n",
       "      <th>2</th>\n",
       "      <td>2</td>\n",
       "      <td>1</td>\n",
       "      <td>6</td>\n",
       "      <td>4.0</td>\n",
       "      <td>964982224</td>\n",
       "    </tr>\n",
       "    <tr>\n",
       "      <th>3</th>\n",
       "      <td>3</td>\n",
       "      <td>1</td>\n",
       "      <td>47</td>\n",
       "      <td>5.0</td>\n",
       "      <td>964983815</td>\n",
       "    </tr>\n",
       "    <tr>\n",
       "      <th>4</th>\n",
       "      <td>4</td>\n",
       "      <td>1</td>\n",
       "      <td>50</td>\n",
       "      <td>5.0</td>\n",
       "      <td>964982931</td>\n",
       "    </tr>\n",
       "  </tbody>\n",
       "</table>\n",
       "</div>"
      ],
      "text/plain": [
       "   index  userId  movieId  rating  timestamp\n",
       "0      0       1        1     4.0  964982703\n",
       "1      1       1        3     4.0  964981247\n",
       "2      2       1        6     4.0  964982224\n",
       "3      3       1       47     5.0  964983815\n",
       "4      4       1       50     5.0  964982931"
      ]
     },
     "execution_count": 14,
     "metadata": {},
     "output_type": "execute_result"
    }
   ],
   "source": [
    "ratings = pd.read_csv(os.path.join(data_folder, \"ratings.csv\")).reset_index()\n",
    "ratings.head(5)"
   ]
  },
  {
   "cell_type": "markdown",
   "metadata": {},
   "source": [
    "## Stratified and Chronological Train-Test Split\n",
    "\n",
    "For each user, set the oldest 80% rating history as train set, and the newest 20% as test set."
   ]
  },
  {
   "cell_type": "code",
   "execution_count": 23,
   "metadata": {},
   "outputs": [
    {
     "data": {
      "text/plain": [
       "userId\n",
       "1      [43, 73, 171, 183, 120, 219, 220, 227, 6, 24, ...\n",
       "2      [232, 246, 260, 258, 253, 256, 235, 251, 244, ...\n",
       "3      [272, 279, 274, 267, 270, 277, 261, 265, 285, ...\n",
       "4      [310, 350, 436, 328, 394, 458, 448, 309, 341, ...\n",
       "5      [553, 554, 524, 542, 533, 544, 551, 525, 537, ...\n",
       "                             ...                        \n",
       "606    [97501, 97742, 97679, 97552, 97694, 97829, 975...\n",
       "607    [98527, 98518, 98628, 98538, 98481, 98494, 985...\n",
       "608    [99077, 98934, 98699, 99055, 98680, 98897, 987...\n",
       "609    [99502, 99521, 99520, 99510, 99517, 99514, 995...\n",
       "610    [99554, 99699, 99649, 100010, 99739, 99541, 99...\n",
       "Name: index, Length: 610, dtype: object"
      ]
     },
     "execution_count": 23,
     "metadata": {},
     "output_type": "execute_result"
    }
   ],
   "source": [
    "user_to_row_idx = ratings.sort_values(\"timestamp\", ascending=True).groupby(\"userId\")[\"index\"].apply(list)\n",
    "user_to_row_idx"
   ]
  },
  {
   "cell_type": "code",
   "execution_count": null,
   "metadata": {},
   "outputs": [],
   "source": [
    "train_index = sum([i[:int(np.ceil(0.8 * len(i)))] for i in user_to_row_idx], [])\n",
    "test_index = sum([i[int(np.ceil(0.8 * len(i))):] for i in user_to_row_idx], [])\n",
    "ratings_train = ratings.iloc[train_index, :][[\"userId\", \"movieId\", \"rating\"]]\n",
    "ratings_test = ratings.iloc[test_index, :][[\"userId\", \"movieId\", \"rating\"]]"
   ]
  }
 ],
 "metadata": {
  "kernelspec": {
   "display_name": "base",
   "language": "python",
   "name": "python3"
  },
  "language_info": {
   "codemirror_mode": {
    "name": "ipython",
    "version": 3
   },
   "file_extension": ".py",
   "mimetype": "text/x-python",
   "name": "python",
   "nbconvert_exporter": "python",
   "pygments_lexer": "ipython3",
   "version": "3.10.9"
  }
 },
 "nbformat": 4,
 "nbformat_minor": 2
}
