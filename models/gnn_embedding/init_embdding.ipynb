{
 "cells": [
  {
   "cell_type": "code",
   "execution_count": null,
   "metadata": {},
   "outputs": [],
   "source": [
    "!pip install torch\n",
    "!pip install torch-geometric"
   ]
  },
  {
   "cell_type": "markdown",
   "metadata": {},
   "source": [
    "This notebook is to visualize the generation of the initial embedding and target embedding from lightGCN."
   ]
  },
  {
   "cell_type": "code",
   "execution_count": 16,
   "metadata": {},
   "outputs": [
    {
     "name": "stdout",
     "output_type": "stream",
     "text": [
      "The autoreload extension is already loaded. To reload it, use:\n",
      "  %reload_ext autoreload\n"
     ]
    }
   ],
   "source": [
    "%load_ext autoreload\n",
    "%autoreload 2"
   ]
  },
  {
   "cell_type": "code",
   "execution_count": 18,
   "metadata": {},
   "outputs": [],
   "source": [
    "import warnings\n",
    "warnings.filterwarnings(\"ignore\")\n",
    "import logging\n",
    "logging.basicConfig(level=logging.ERROR)\n",
    "\n",
    "import numpy as np\n",
    "import pandas as pd\n",
    "import sys\n",
    "import os\n",
    "\n",
    "# Add the project root directory to sys.path\n",
    "sys.path.append(os.path.abspath(os.path.join(os.getcwd(), \"../..\")))\n",
    "\n",
    "# Import modules from the utils folder\n",
    "from utils.dataloader import DataLoader\n",
    "from utils.data_split import train_test_split"
   ]
  },
  {
   "cell_type": "code",
   "execution_count": 19,
   "metadata": {},
   "outputs": [],
   "source": [
    "movie_data = DataLoader(size=\"100k\")\n",
    "data = movie_data.load_ratings()\n",
    "train_set, test_set = train_test_split(data)"
   ]
  },
  {
   "cell_type": "code",
   "execution_count": 20,
   "metadata": {},
   "outputs": [],
   "source": [
    "training_ratings = train_set"
   ]
  },
  {
   "cell_type": "code",
   "execution_count": 21,
   "metadata": {},
   "outputs": [
    {
     "data": {
      "text/plain": [
       "1609"
      ]
     },
     "execution_count": 21,
     "metadata": {},
     "output_type": "execute_result"
    }
   ],
   "source": [
    "len(training_ratings['item'].unique())"
   ]
  },
  {
   "cell_type": "code",
   "execution_count": 22,
   "metadata": {},
   "outputs": [
    {
     "name": "stdout",
     "output_type": "stream",
     "text": [
      "Top 50% Users DataFrame:\n",
      "(471, 1)\n",
      "\n",
      "Top 50% Items DataFrame:\n",
      "(804, 1)\n"
     ]
    }
   ],
   "source": [
    "# Calculate user degree\n",
    "user_degree_df = training_ratings.groupby(\"user\").size().reset_index(name=\"degree\")\n",
    "\n",
    "# Calculate item degree\n",
    "item_degree_df = training_ratings.groupby(\"item\").size().reset_index(name=\"degree\")\n",
    "\n",
    "# Determine the cutoff for top 50% users and items based on degree\n",
    "user_cutoff = int(len(user_degree_df) * 0.5)\n",
    "item_cutoff = int(len(item_degree_df) * 0.5)\n",
    "\n",
    "# Get top 50% users and items\n",
    "top_users_df = user_degree_df.nlargest(user_cutoff, 'degree')[['user']]\n",
    "top_items_df = item_degree_df.nlargest(item_cutoff, 'degree')[['item']]\n",
    "\n",
    "# Display the DataFrames\n",
    "print(\"Top 50% Users DataFrame:\")\n",
    "print(top_users_df.shape)\n",
    "\n",
    "print(\"\\nTop 50% Items DataFrame:\")\n",
    "print(top_items_df.shape)"
   ]
  },
  {
   "cell_type": "code",
   "execution_count": 23,
   "metadata": {},
   "outputs": [
    {
     "data": {
      "text/html": [
       "<div>\n",
       "<style scoped>\n",
       "    .dataframe tbody tr th:only-of-type {\n",
       "        vertical-align: middle;\n",
       "    }\n",
       "\n",
       "    .dataframe tbody tr th {\n",
       "        vertical-align: top;\n",
       "    }\n",
       "\n",
       "    .dataframe thead th {\n",
       "        text-align: right;\n",
       "    }\n",
       "</style>\n",
       "<table border=\"1\" class=\"dataframe\">\n",
       "  <thead>\n",
       "    <tr style=\"text-align: right;\">\n",
       "      <th></th>\n",
       "      <th>user</th>\n",
       "      <th>item</th>\n",
       "      <th>rating</th>\n",
       "      <th>timestamp</th>\n",
       "    </tr>\n",
       "  </thead>\n",
       "  <tbody>\n",
       "    <tr>\n",
       "      <th>85</th>\n",
       "      <td>332</td>\n",
       "      <td>566</td>\n",
       "      <td>4</td>\n",
       "      <td>888360342</td>\n",
       "    </tr>\n",
       "    <tr>\n",
       "      <th>86</th>\n",
       "      <td>332</td>\n",
       "      <td>451</td>\n",
       "      <td>5</td>\n",
       "      <td>888360179</td>\n",
       "    </tr>\n",
       "    <tr>\n",
       "      <th>87</th>\n",
       "      <td>332</td>\n",
       "      <td>595</td>\n",
       "      <td>4</td>\n",
       "      <td>887938574</td>\n",
       "    </tr>\n",
       "    <tr>\n",
       "      <th>88</th>\n",
       "      <td>332</td>\n",
       "      <td>44</td>\n",
       "      <td>3</td>\n",
       "      <td>888360342</td>\n",
       "    </tr>\n",
       "    <tr>\n",
       "      <th>90</th>\n",
       "      <td>332</td>\n",
       "      <td>258</td>\n",
       "      <td>5</td>\n",
       "      <td>887916151</td>\n",
       "    </tr>\n",
       "    <tr>\n",
       "      <th>...</th>\n",
       "      <td>...</td>\n",
       "      <td>...</td>\n",
       "      <td>...</td>\n",
       "      <td>...</td>\n",
       "    </tr>\n",
       "    <tr>\n",
       "      <th>65546</th>\n",
       "      <td>436</td>\n",
       "      <td>427</td>\n",
       "      <td>3</td>\n",
       "      <td>887769105</td>\n",
       "    </tr>\n",
       "    <tr>\n",
       "      <th>65547</th>\n",
       "      <td>436</td>\n",
       "      <td>234</td>\n",
       "      <td>3</td>\n",
       "      <td>887769471</td>\n",
       "    </tr>\n",
       "    <tr>\n",
       "      <th>65548</th>\n",
       "      <td>436</td>\n",
       "      <td>187</td>\n",
       "      <td>5</td>\n",
       "      <td>887768982</td>\n",
       "    </tr>\n",
       "    <tr>\n",
       "      <th>65551</th>\n",
       "      <td>436</td>\n",
       "      <td>856</td>\n",
       "      <td>4</td>\n",
       "      <td>887769952</td>\n",
       "    </tr>\n",
       "    <tr>\n",
       "      <th>65552</th>\n",
       "      <td>436</td>\n",
       "      <td>468</td>\n",
       "      <td>4</td>\n",
       "      <td>887771826</td>\n",
       "    </tr>\n",
       "  </tbody>\n",
       "</table>\n",
       "<p>50548 rows × 4 columns</p>\n",
       "</div>"
      ],
      "text/plain": [
       "       user  item  rating  timestamp\n",
       "85      332   566       4  888360342\n",
       "86      332   451       5  888360179\n",
       "87      332   595       4  887938574\n",
       "88      332    44       3  888360342\n",
       "90      332   258       5  887916151\n",
       "...     ...   ...     ...        ...\n",
       "65546   436   427       3  887769105\n",
       "65547   436   234       3  887769471\n",
       "65548   436   187       5  887768982\n",
       "65551   436   856       4  887769952\n",
       "65552   436   468       4  887771826\n",
       "\n",
       "[50548 rows x 4 columns]"
      ]
     },
     "execution_count": 23,
     "metadata": {},
     "output_type": "execute_result"
    }
   ],
   "source": [
    "filtered_user_movie_rating = training_ratings[\n",
    "    (training_ratings['user'].isin(top_users_df['user'])) &\n",
    "    (training_ratings['item'].isin(top_items_df['item']))\n",
    "]\n",
    "filtered_user_movie_rating"
   ]
  },
  {
   "cell_type": "code",
   "execution_count": 34,
   "metadata": {},
   "outputs": [
    {
     "data": {
      "text/html": [
       "<div>\n",
       "<style scoped>\n",
       "    .dataframe tbody tr th:only-of-type {\n",
       "        vertical-align: middle;\n",
       "    }\n",
       "\n",
       "    .dataframe tbody tr th {\n",
       "        vertical-align: top;\n",
       "    }\n",
       "\n",
       "    .dataframe thead th {\n",
       "        text-align: right;\n",
       "    }\n",
       "</style>\n",
       "<table border=\"1\" class=\"dataframe\">\n",
       "  <thead>\n",
       "    <tr style=\"text-align: right;\">\n",
       "      <th></th>\n",
       "      <th>user</th>\n",
       "    </tr>\n",
       "  </thead>\n",
       "  <tbody>\n",
       "    <tr>\n",
       "      <th>654</th>\n",
       "      <td>655</td>\n",
       "    </tr>\n",
       "    <tr>\n",
       "      <th>12</th>\n",
       "      <td>13</td>\n",
       "    </tr>\n",
       "    <tr>\n",
       "      <th>415</th>\n",
       "      <td>416</td>\n",
       "    </tr>\n",
       "    <tr>\n",
       "      <th>536</th>\n",
       "      <td>537</td>\n",
       "    </tr>\n",
       "    <tr>\n",
       "      <th>233</th>\n",
       "      <td>234</td>\n",
       "    </tr>\n",
       "  </tbody>\n",
       "</table>\n",
       "</div>"
      ],
      "text/plain": [
       "     user\n",
       "654   655\n",
       "12     13\n",
       "415   416\n",
       "536   537\n",
       "233   234"
      ]
     },
     "execution_count": 34,
     "metadata": {},
     "output_type": "execute_result"
    }
   ],
   "source": [
    "top_users_df.head()"
   ]
  },
  {
   "cell_type": "code",
   "execution_count": 40,
   "metadata": {},
   "outputs": [
    {
     "data": {
      "text/plain": [
       "array([332, 894, 500, 308, 883, 437, 533,  64, 766,  87, 588, 327, 650,\n",
       "       200, 622, 892, 267, 452, 823, 328, 886, 303, 618, 389, 276, 524,\n",
       "       897, 586, 425, 312, 535, 606, 854, 627, 311, 405, 851, 543, 450,\n",
       "       833, 216,  83, 466, 345,   3, 102, 454, 632, 232,   6, 907, 788,\n",
       "       774, 901, 600, 665,  26,  85,  11, 334, 429, 942, 119,  56, 320,\n",
       "       197, 553,  82, 658, 299, 828, 329, 315, 291, 463, 807, 297, 752,\n",
       "        60, 343, 880, 409, 399, 548,   8, 421, 577, 534, 293, 363, 483,\n",
       "       871, 922, 213, 721, 295, 582,   1, 666, 313, 864, 877, 495, 848,\n",
       "       347,  91, 275, 843,  70, 292, 301, 663, 145, 194, 881, 141, 174,\n",
       "         7, 605, 870, 239, 908, 235, 221, 918, 934, 186,  42, 868, 109,\n",
       "       839,  57, 835, 733,  25, 406, 484, 919, 339,  52, 458, 778, 536,\n",
       "       378,  84,  62, 286, 361, 279,  13, 619, 224, 540, 659, 479, 177,\n",
       "       501, 933, 457, 164, 249,  75, 537, 391, 115, 532,  90, 932, 867,\n",
       "       878,  95, 397,  44,  43, 330, 168, 825, 875, 101, 417, 831, 621,\n",
       "       178, 645, 496, 336, 579,  16, 486, 257, 514, 715, 465, 394, 223,\n",
       "       180, 290, 545, 325,  10, 250,  23, 357, 222, 629, 927, 432, 786,\n",
       "       546, 595,  94, 526, 634, 790, 758, 921, 435, 654,  76, 451, 690,\n",
       "       757,  69, 447, 592, 487, 189, 698, 488,  89, 118, 559, 117, 474,\n",
       "       653,  58, 370, 269, 943, 787, 694, 264, 637, 305, 342, 911, 125,\n",
       "       354, 321, 763, 746, 538, 585, 176, 246, 782, 630, 711, 288, 568,\n",
       "        18, 128, 323, 256, 751, 116, 181, 716, 683, 753, 518, 158,  49,\n",
       "       793, 887, 481, 617, 738, 896, 365, 230,  38, 910, 470, 802, 195,\n",
       "       805, 815, 504, 899, 913, 923, 671, 712, 227, 821, 104, 422, 707,\n",
       "       587,  54, 152, 890, 796, 719, 761,  37, 453, 254, 624, 669, 679,\n",
       "       263, 298, 151, 551, 747, 489, 148, 697, 660, 326, 187, 804, 144,\n",
       "       903, 198, 610, 280, 294, 401, 123, 184, 416, 840, 130, 638, 844,\n",
       "       860, 642, 862, 709, 865, 625, 717, 387, 916, 268, 442, 497, 233,\n",
       "       608, 374, 795, 234, 741, 318, 411, 846, 710, 633, 385, 768, 348,\n",
       "       506, 640, 931, 620, 798, 243, 699, 160, 541, 655, 838, 889, 734,\n",
       "        96, 554, 207, 393, 398,   5, 643, 684,  99, 407, 503,  48, 780,\n",
       "       201, 135,  28, 829, 490, 773, 379, 392, 593, 499,  63, 472, 648,\n",
       "       521,  65,  15, 493, 380, 188, 764, 217, 338, 749, 296, 727, 456,\n",
       "       940, 270, 402, 106, 566,   2, 882, 562,  81, 206, 776, 428, 455,\n",
       "       367,  92, 346,  14, 316, 601, 274, 167, 936, 647, 924, 505, 244,\n",
       "       567, 190, 476, 682,  59, 561, 748, 253,  22, 314, 460, 161, 806,\n",
       "       492, 344, 770, 664, 872, 100, 373, 459, 331, 215, 122, 615,  21,\n",
       "        72, 271, 436])"
      ]
     },
     "execution_count": 40,
     "metadata": {},
     "output_type": "execute_result"
    }
   ],
   "source": [
    "filtered_user_movie_rating['user'].unique()"
   ]
  },
  {
   "cell_type": "code",
   "execution_count": 24,
   "metadata": {},
   "outputs": [
    {
     "name": "stdout",
     "output_type": "stream",
     "text": [
      "User Embeddings Shape: torch.Size([471, 64])\n",
      "Item Embeddings Shape: torch.Size([804, 64])\n"
     ]
    }
   ],
   "source": [
    "import torch\n",
    "import sys\n",
    "import os\n",
    "\n",
    "sys.path.append(os.path.abspath(os.path.join(os.getcwd(), \"../\")))\n",
    "\n",
    "from lightgcn_model import LightGCN, LightGCNModel\n",
    "\n",
    "filtered_user_movie_rating = filtered_user_movie_rating[['user','item','rating']]\n",
    "\n",
    "# Assuming filtered_user_movie_rating is already available\n",
    "# and contains the columns 'user', 'item', and 'rating'.\n",
    "\n",
    "# Split the filtered dataset into training and testing sets\n",
    "from sklearn.model_selection import train_test_split\n",
    "\n",
    "train_set, test_set = train_test_split(filtered_user_movie_rating, test_size=0.3, random_state=42)\n",
    "\n",
    "# Instantiate LightGCNModel with the filtered data\n",
    "model = LightGCNModel(\n",
    "    train_set=train_set,\n",
    "    test_set=test_set,\n",
    "    num_layers=3,        \n",
    "    embedding_dim=64,    \n",
    "    learning_rate=0.01,  \n",
    "    epochs=500,          \n",
    "    device='cpu'         \n",
    ")\n",
    "\n",
    "# Prepare training data (includes building graph and initializing model)\n",
    "model.prepare_training_data()\n",
    "\n",
    "\n",
    "with torch.no_grad():  \n",
    "    user_embeddings, item_embeddings = model.model(model.adj_norm)\n",
    "\n",
    "print(\"User Embeddings Shape:\", user_embeddings.shape)  # Shape: (num_users, embedding_dim)\n",
    "print(\"Item Embeddings Shape:\", item_embeddings.shape)  # Shape: (num_items, embedding_dim)\n"
   ]
  },
  {
   "cell_type": "code",
   "execution_count": 45,
   "metadata": {},
   "outputs": [],
   "source": [
    "def reshuffle_target(initial_embeddings, target_item_embeddings, column):\n",
    "    \"\"\"\n",
    "    Reorder target_item_embeddings to match the order of initial_embeddings based on a given column.\n",
    "    \n",
    "    Args:\n",
    "        initial_embeddings (pd.DataFrame): DataFrame with initial embeddings and a column to determine order.\n",
    "        target_item_embeddings (pd.DataFrame): DataFrame with target embeddings to be reshuffled.\n",
    "        column (str): The column name to determine the matching order.\n",
    "    \n",
    "    Returns:\n",
    "        pd.DataFrame: Reordered target_item_embeddings matching the order of initial_embeddings.\n",
    "    \"\"\"\n",
    "    # Merge the two DataFrames on the given column\n",
    "    reshuffled_embeddings = initial_embeddings[[column]].merge(\n",
    "        target_item_embeddings,\n",
    "        on=column,\n",
    "        how='left'\n",
    "    )\n",
    "    return reshuffled_embeddings\n",
    "\n",
    "# Example usage:\n",
    "# initial_embeddings = pd.DataFrame({'userid': [1, 2, 3], 'embedding': [[0.1, 0.2], [0.3, 0.4], [0.5, 0.6]]})\n",
    "# target_item_embeddings = pd.DataFrame({'userid': [3, 1, 2], 'embedding': [[0.5, 0.6], [0.1, 0.2], [0.3, 0.4]]})\n",
    "# reshuffled = reshuffle_target(initial_embeddings, target_item_embeddings, 'userid')\n",
    "# print(reshuffled)\n"
   ]
  },
  {
   "cell_type": "code",
   "execution_count": 47,
   "metadata": {},
   "outputs": [],
   "source": [
    "reshuffled_items = reshuffle_target(item_embeddings_df, target_item_embeddings, \"item\")\n",
    "reshuffle_users = reshuffle_target(user_embeddings_df, target_user_embeddings, \"user\")"
   ]
  },
  {
   "cell_type": "code",
   "execution_count": 25,
   "metadata": {},
   "outputs": [
    {
     "name": "stdout",
     "output_type": "stream",
     "text": [
      "User Embeddings DataFrame:\n",
      "(471, 2)\n",
      "\n",
      "Item Embeddings DataFrame:\n",
      "(804, 2)\n"
     ]
    }
   ],
   "source": [
    "# Convert user_embeddings to DataFrame\n",
    "target_user_embeddings = pd.DataFrame({\n",
    "    'user': [model.idx2user[i] for i in range(user_embeddings.shape[0])],  # Map row indices to user IDs\n",
    "    'embedding': user_embeddings.cpu().numpy().tolist()  # Convert tensor rows to lists\n",
    "})\n",
    "\n",
    "# Convert item_embeddings to DataFrame\n",
    "target_item_embeddings = pd.DataFrame({\n",
    "    'item': [model.idx2item[i] for i in range(item_embeddings.shape[0])],  # Map row indices to item IDs\n",
    "    'embedding': item_embeddings.cpu().numpy().tolist()  # Convert tensor rows to lists\n",
    "})\n",
    "\n",
    "# Display the DataFrames\n",
    "print(\"User Embeddings DataFrame:\")\n",
    "print(target_user_embeddings.shape)\n",
    "\n",
    "print(\"\\nItem Embeddings DataFrame:\")\n",
    "print(target_item_embeddings.shape)\n"
   ]
  },
  {
   "cell_type": "code",
   "execution_count": 30,
   "metadata": {},
   "outputs": [
    {
     "data": {
      "text/plain": [
       "<bound method NDFrame.head of      user\n",
       "654   655\n",
       "12     13\n",
       "415   416\n",
       "536   537\n",
       "233   234\n",
       "..    ...\n",
       "585   586\n",
       "779   780\n",
       "792   793\n",
       "2       3\n",
       "122   123\n",
       "\n",
       "[471 rows x 1 columns]>"
      ]
     },
     "execution_count": 30,
     "metadata": {},
     "output_type": "execute_result"
    }
   ],
   "source": [
    "top_users_df.head"
   ]
  },
  {
   "cell_type": "code",
   "execution_count": 26,
   "metadata": {},
   "outputs": [
    {
     "name": "stdout",
     "output_type": "stream",
     "text": [
      "User Embeddings DataFrame:\n",
      "(471, 2)\n",
      "Item Embeddings DataFrame:\n",
      "(804, 2)\n"
     ]
    }
   ],
   "source": [
    "import torch.nn as nn\n",
    "\n",
    "# Step 1: Define the number of users and embedding dimension\n",
    "num_users = len(top_users_df['user'])  # Assuming user_degree_df contains the user IDs\n",
    "num_items = len(top_items_df['item'])\n",
    "embedding_dim = 64  # Specify embedding dimension\n",
    "\n",
    "# Step 2: Initialize the embedding layer\n",
    "init_user_embedding = nn.Embedding(num_users, embedding_dim)\n",
    "init_item_embedding = nn.Embedding(num_items, embedding_dim)\n",
    "\n",
    "# Step 3: Apply Xavier Uniform Initialization\n",
    "nn.init.xavier_uniform_(init_user_embedding.weight)\n",
    "nn.init.xavier_uniform_(init_item_embedding.weight)\n",
    "\n",
    "# Step 4: Convert initialized embeddings into a DataFrame\n",
    "user_ids = top_users_df['user'].values  # Extract user IDs from top_users_df\n",
    "user_embeddings = init_user_embedding.weight.cpu().detach().numpy()  # Convert to numpy array\n",
    "item_ids = top_items_df['item'].values  # Extract item IDs from top_users_df\n",
    "item_embeddings = init_item_embedding.weight.cpu().detach().numpy()  # Convert to numpy array\n",
    "\n",
    "# Create DataFrame\n",
    "user_embeddings_df = pd.DataFrame({\n",
    "    'user': user_ids,  # Map rows to user IDs\n",
    "    'embedding': user_embeddings.tolist()  # Convert each embedding row to a list\n",
    "})\n",
    "\n",
    "item_embeddings_df = pd.DataFrame({\n",
    "    'item': item_ids,  # Map rows to item IDs\n",
    "    'embedding': item_embeddings.tolist()  # Convert each embedding row to a list\n",
    "})\n",
    "\n",
    "# Display the resulting DataFrame\n",
    "print(\"User Embeddings DataFrame:\")\n",
    "print(user_embeddings_df.shape)\n",
    "\n",
    "print(\"Item Embeddings DataFrame:\")\n",
    "print(item_embeddings_df.shape)\n"
   ]
  },
  {
   "cell_type": "code",
   "execution_count": 29,
   "metadata": {},
   "outputs": [
    {
     "name": "stdout",
     "output_type": "stream",
     "text": [
      "<bound method NDFrame.head of      user                                          embedding\n",
      "0     655  [0.10007774829864502, 0.018424294888973236, 0....\n",
      "1      13  [-0.10390898585319519, 0.10543130338191986, 0....\n",
      "2     416  [-0.022570259869098663, 0.04818075895309448, -...\n",
      "3     537  [0.05264461040496826, -0.07918736338615417, -0...\n",
      "4     234  [-0.07219883799552917, -0.004899948835372925, ...\n",
      "..    ...                                                ...\n",
      "466   586  [-0.09346890449523926, 0.014625325798988342, 0...\n",
      "467   780  [0.024634823203086853, 0.0008009001612663269, ...\n",
      "468   793  [0.025385022163391113, -0.0337277427315712, -0...\n",
      "469     3  [-0.0256737619638443, -0.010066032409667969, 0...\n",
      "470   123  [-0.01820867508649826, -0.0662456601858139, -0...\n",
      "\n",
      "[471 rows x 2 columns]>\n",
      "<bound method NDFrame.head of      item                                          embedding\n",
      "0      50  [-0.08057637512683868, 0.06575184315443039, -0...\n",
      "1     100  [-0.02456614375114441, -0.04976752772927284, -...\n",
      "2     258  [-0.08288414031267166, -0.0029884055256843567,...\n",
      "3     294  [0.06375289708375931, -0.03498055785894394, 0....\n",
      "4     181  [-0.04516581445932388, 0.08053671568632126, 0....\n",
      "..    ...                                                ...\n",
      "799  1033  [-0.08113979548215866, -0.02977551892399788, -...\n",
      "800  1139  [-0.01761513203382492, -0.06468113511800766, -...\n",
      "801  1163  [-0.04674286022782326, 0.06603575497865677, 0....\n",
      "802  1170  [-0.06695094704627991, 0.06754077225923538, 0....\n",
      "803  1194  [0.026595354080200195, -0.04893731698393822, -...\n",
      "\n",
      "[804 rows x 2 columns]>\n"
     ]
    }
   ],
   "source": [
    "print(user_embeddings_df.head)\n",
    "print(item_embeddings_df.head)"
   ]
  },
  {
   "cell_type": "code",
   "execution_count": 50,
   "metadata": {},
   "outputs": [],
   "source": [
    "# Save to CSV\n",
    "\n",
    "# Define the folder name\n",
    "output_folder = \"ml_gnn_ebd\"\n",
    "\n",
    "# Create the folder if it doesn't exist\n",
    "if not os.path.exists(output_folder):\n",
    "    os.makedirs(output_folder)\n",
    "\n",
    "# Save the CSV files into the specified folder\n",
    "user_embeddings_df.to_csv(os.path.join(output_folder, \"initial_user_ebds.csv\"), index=False)\n",
    "item_embeddings_df.to_csv(os.path.join(output_folder, \"initial_item_ebds.csv\"), index=False)\n",
    "reshuffle_users.to_csv(os.path.join(output_folder, \"target_user_ebds.csv\"), index=False)\n",
    "reshuffled_items.to_csv(os.path.join(output_folder, \"target_item_ebds.csv\"), index=False)"
   ]
  }
 ],
 "metadata": {
  "kernelspec": {
   "display_name": "gnn_course",
   "language": "python",
   "name": "python3"
  },
  "language_info": {
   "codemirror_mode": {
    "name": "ipython",
    "version": 3
   },
   "file_extension": ".py",
   "mimetype": "text/x-python",
   "name": "python",
   "nbconvert_exporter": "python",
   "pygments_lexer": "ipython3",
   "version": "3.8.20"
  }
 },
 "nbformat": 4,
 "nbformat_minor": 4
}
