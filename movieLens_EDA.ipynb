{
 "cells": [
  {
   "cell_type": "markdown",
   "id": "16a6c0ad-183e-45c8-b445-9c750a559d65",
   "metadata": {},
   "source": [
    "# Project - Building a MovieLens Recommender System Using Graphs\n",
    "\n",
    "### Source of Data - MovieLens\n",
    "\n",
    "[MovieLens](https://grouplens.org/datasets/movielens/) is the data used in this project to test and train the recommendation system. It was developed by GroupLens, a computer science research lab at the University of Minnesota. It recommends movies to its users based on their movie ratings."
   ]
  },
  {
   "cell_type": "code",
   "execution_count": 73,
   "id": "b78bf337-255c-4ccf-baee-8af3158cbdb7",
   "metadata": {},
   "outputs": [],
   "source": [
    "import numpy as np\n",
    "import pandas as pd\n",
    "import matplotlib.pyplot as plt\n",
    "import seaborn as sns\n",
    "from utils.dataloader import DataLoader "
   ]
  },
  {
   "cell_type": "code",
   "execution_count": null,
   "id": "be588ff2-03c7-40db-a61d-e871a6a427d3",
   "metadata": {},
   "outputs": [
    {
     "name": "stdout",
     "output_type": "stream",
     "text": [
      "Ratings Data: 100000\n",
      "   user  item  rating  timestamp\n",
      "0   196   242       3  881250949\n",
      "1   186   302       3  891717742\n",
      "2    22   377       1  878887116\n",
      "3   244    51       2  880606923\n",
      "4   166   346       1  886397596\n",
      "\n",
      "Movie Data: 1682\n",
      "   movie_id       title  year                       genres\n",
      "0         1   Toy Story  1995  Animation|Children's|Comedy\n",
      "1         2   GoldenEye  1995    Action|Adventure|Thriller\n",
      "2         3  Four Rooms  1995                     Thriller\n",
      "3         4  Get Shorty  1995          Action|Comedy|Drama\n",
      "4         5     Copycat  1995         Crime|Drama|Thriller\n",
      "\n",
      "User Data: 943\n",
      "   userid    age gender  occupation zipcode\n",
      "0       1  18-24      M          19   85711\n",
      "1       2  50-55      F          13   94043\n",
      "2       3  18-24      M          20   32067\n",
      "3       4  18-24      M          19   43537\n",
      "4       5  25-34      F          13   15213\n"
     ]
    }
   ],
   "source": [
    "# Define the dataset size (100k or 1m)\n",
    "dataset_size = \"100k\"  # You can also use \"1m\" for a larger dataset\n",
    "\n",
    "# Ensure files are downloaded, if not already present\n",
    "movie_data = DataLoader(size=dataset_size)\n",
    "\n",
    "# Load rating data\n",
    "rating_df = movie_data.load_ratings()\n",
    "\n",
    "# Load movie data\n",
    "movie_df = movie_data.load_items(\n",
    "    process_title=True, process_year=True, process_genres=True, genres_as_binary=False)\n",
    "\n",
    "# Load user data\n",
    "user_df= movie_data.load_user_features(True, True)\n",
    "\n",
    "# Load actors and directors data\n",
    "fetched_movies = pd.read_csv(\"./data/fetched_movies.csv\")\n",
    "semantics_info = fetched_movies[['MovieLens_ID', 'Director', 'Actors']]\n",
    "\n",
    "# Display sample data\n",
    "print(\"Ratings Data:\", len(rating_df))\n",
    "print(rating_df.head())\n",
    "print(\"\\nMovie Data:\", len(movie_df))\n",
    "print(movie_df.head())\n",
    "if user_df is not None:\n",
    "    print(\"\\nUser Data:\", len(user_df))\n",
    "    print(user_df.head())"
   ]
  },
  {
   "cell_type": "markdown",
   "id": "fc2fdff2-285a-46ad-8fc1-9505588abdd3",
   "metadata": {},
   "source": [
    "#### What is the distribution of movie ratings?"
   ]
  },
  {
   "cell_type": "code",
   "execution_count": 75,
   "id": "0c3c6d34-cf49-49eb-9bba-c4c354efc691",
   "metadata": {},
   "outputs": [
    {
     "name": "stderr",
     "output_type": "stream",
     "text": [
      "/var/folders/9_/rwbmnd2917s2ynq8fvvlmq_80000gn/T/ipykernel_20827/2492416878.py:1: FutureWarning: \n",
      "\n",
      "Passing `palette` without assigning `hue` is deprecated and will be removed in v0.14.0. Assign the `x` variable to `hue` and set `legend=False` for the same effect.\n",
      "\n",
      "  sns.countplot(x=\"rating\", data=rating_df, palette=\"viridis\")\n"
     ]
    },
    {
     "data": {
      "image/png": "[encoded data removed]",
      "text/plain": [
       "<Figure size 640x480 with 1 Axes>"
      ]
     },
     "metadata": {},
     "output_type": "display_data"
    }
   ],
   "source": [
    "sns.countplot(x=\"rating\", data=rating_df, palette=\"viridis\")\n",
    "plt.title(\"Distribution of movie ratings\", fontsize=14)\n",
    "plt.show()"
   ]
  },
  {
   "cell_type": "code",
   "execution_count": 76,
   "id": "908d682f-b960-47e1-b07f-07b68e704b44",
   "metadata": {},
   "outputs": [
    {
     "name": "stdout",
     "output_type": "stream",
     "text": [
      "Mean global rating: 3.53.\n",
      "Mean rating per user: 3.59.\n"
     ]
    }
   ],
   "source": [
    "print(f\"Mean global rating: {round(rating_df['rating'].mean(),2)}.\")\n",
    "\n",
    "mean_ratings = rating_df.groupby('user')['rating'].mean()\n",
    "print(f\"Mean rating per user: {round(mean_ratings.mean(),2)}.\")"
   ]
  },
  {
   "cell_type": "markdown",
   "id": "a4e9db75-f777-414d-82a4-06491a222ed0",
   "metadata": {},
   "source": [
    "#### Which movies are most frequently rated?"
   ]
  },
  {
   "cell_type": "code",
   "execution_count": 77,
   "id": "6ac4c38c",
   "metadata": {},
   "outputs": [
    {
     "data": {
      "text/plain": [
       "Index(['movie_id', 'title', 'year', 'genres'], dtype='object')"
      ]
     },
     "execution_count": 77,
     "metadata": {},
     "output_type": "execute_result"
    }
   ],
   "source": [
    "movie_df.columns"
   ]
  },
  {
   "cell_type": "code",
   "execution_count": 78,
   "id": "abfd8f6e-cb15-4444-a88d-cfde4fba2336",
   "metadata": {},
   "outputs": [
    {
     "data": {
      "text/plain": [
       "title\n",
       "Star Wars                 583\n",
       "Contact                   509\n",
       "Fargo                     508\n",
       "Return of the Jedi        507\n",
       "Liar Liar                 485\n",
       "English Patient, The      481\n",
       "Scream                    478\n",
       "Toy Story                 452\n",
       "Air Force One             431\n",
       "Independence Day (ID4)    429\n",
       "Name: count, dtype: int64"
      ]
     },
     "execution_count": 78,
     "metadata": {},
     "output_type": "execute_result"
    }
   ],
   "source": [
    "movie_ratings = rating_df.merge(movie_df, left_on='item', right_on='movie_id')\n",
    "movie_ratings['title'].value_counts()[0:10]"
   ]
  },
  {
   "cell_type": "markdown",
   "id": "84978c73-28c2-4093-9cdd-a7c05ecaa735",
   "metadata": {},
   "source": [
    "`Star Wars`, `Contact`, `Fargo` and `Return of the Jedi` have the most ratings based on the dataset released in 2021."
   ]
  },
  {
   "cell_type": "markdown",
   "id": "2ea50fba-96fe-4b0b-ad93-5ef590656962",
   "metadata": {},
   "source": [
    "#### What are the lowest and highest rated movies?"
   ]
  },
  {
   "cell_type": "code",
   "execution_count": 79,
   "id": "fb89ec2c-2f08-4591-8ff4-8d314fd32251",
   "metadata": {
    "scrolled": true
   },
   "outputs": [
    {
     "data": {
      "text/html": [
       "<div>\n",
       "<style scoped>\n",
       "    .dataframe tbody tr th:only-of-type {\n",
       "        vertical-align: middle;\n",
       "    }\n",
       "\n",
       "    .dataframe tbody tr th {\n",
       "        vertical-align: top;\n",
       "    }\n",
       "\n",
       "    .dataframe thead th {\n",
       "        text-align: right;\n",
       "    }\n",
       "</style>\n",
       "<table border=\"1\" class=\"dataframe\">\n",
       "  <thead>\n",
       "    <tr style=\"text-align: right;\">\n",
       "      <th></th>\n",
       "      <th>movie_id</th>\n",
       "      <th>title</th>\n",
       "      <th>year</th>\n",
       "      <th>genres</th>\n",
       "    </tr>\n",
       "  </thead>\n",
       "  <tbody>\n",
       "    <tr>\n",
       "      <th>313</th>\n",
       "      <td>314</td>\n",
       "      <td>3 Ninjas: High Noon At Mega Mountain</td>\n",
       "      <td>1998</td>\n",
       "      <td>Action|Children's</td>\n",
       "    </tr>\n",
       "  </tbody>\n",
       "</table>\n",
       "</div>"
      ],
      "text/plain": [
       "     movie_id                                 title  year             genres\n",
       "313       314  3 Ninjas: High Noon At Mega Mountain  1998  Action|Children's"
      ]
     },
     "execution_count": 79,
     "metadata": {},
     "output_type": "execute_result"
    }
   ],
   "source": [
    "mean_ratings = rating_df.groupby('item')[['rating']].mean()\n",
    "lowest_rated = mean_ratings['rating'].idxmin()\n",
    "movie_df[movie_df['movie_id']==lowest_rated]"
   ]
  },
  {
   "cell_type": "code",
   "execution_count": 80,
   "id": "883c2971-4d2e-45d9-8cf3-3f0b8bbfa078",
   "metadata": {},
   "outputs": [
    {
     "data": {
      "text/html": [
       "<div>\n",
       "<style scoped>\n",
       "    .dataframe tbody tr th:only-of-type {\n",
       "        vertical-align: middle;\n",
       "    }\n",
       "\n",
       "    .dataframe tbody tr th {\n",
       "        vertical-align: top;\n",
       "    }\n",
       "\n",
       "    .dataframe thead th {\n",
       "        text-align: right;\n",
       "    }\n",
       "</style>\n",
       "<table border=\"1\" class=\"dataframe\">\n",
       "  <thead>\n",
       "    <tr style=\"text-align: right;\">\n",
       "      <th></th>\n",
       "      <th>user</th>\n",
       "      <th>item</th>\n",
       "      <th>rating</th>\n",
       "      <th>timestamp</th>\n",
       "    </tr>\n",
       "  </thead>\n",
       "  <tbody>\n",
       "    <tr>\n",
       "      <th>2997</th>\n",
       "      <td>13</td>\n",
       "      <td>314</td>\n",
       "      <td>1</td>\n",
       "      <td>884538485</td>\n",
       "    </tr>\n",
       "    <tr>\n",
       "      <th>3425</th>\n",
       "      <td>2</td>\n",
       "      <td>314</td>\n",
       "      <td>1</td>\n",
       "      <td>888980085</td>\n",
       "    </tr>\n",
       "    <tr>\n",
       "      <th>13859</th>\n",
       "      <td>206</td>\n",
       "      <td>314</td>\n",
       "      <td>1</td>\n",
       "      <td>888179948</td>\n",
       "    </tr>\n",
       "    <tr>\n",
       "      <th>41251</th>\n",
       "      <td>609</td>\n",
       "      <td>314</td>\n",
       "      <td>1</td>\n",
       "      <td>886895941</td>\n",
       "    </tr>\n",
       "    <tr>\n",
       "      <th>78117</th>\n",
       "      <td>537</td>\n",
       "      <td>314</td>\n",
       "      <td>1</td>\n",
       "      <td>886029239</td>\n",
       "    </tr>\n",
       "  </tbody>\n",
       "</table>\n",
       "</div>"
      ],
      "text/plain": [
       "       user  item  rating  timestamp\n",
       "2997     13   314       1  884538485\n",
       "3425      2   314       1  888980085\n",
       "13859   206   314       1  888179948\n",
       "41251   609   314       1  886895941\n",
       "78117   537   314       1  886029239"
      ]
     },
     "execution_count": 80,
     "metadata": {},
     "output_type": "execute_result"
    }
   ],
   "source": [
    "rating_df[rating_df['item']==lowest_rated]"
   ]
  },
  {
   "cell_type": "markdown",
   "id": "b8f53942-708f-4d9b-81c7-d4d9194a75e7",
   "metadata": {},
   "source": [
    "The lowest rated movie is `3 Ninjas: High Noon At Mega Mountain (1998)`. However, there are only 5 ratings which may be biased."
   ]
  },
  {
   "cell_type": "code",
   "execution_count": 81,
   "id": "67321cf2-509f-43c4-9c24-b2f0e6caee72",
   "metadata": {},
   "outputs": [
    {
     "data": {
      "text/html": [
       "<div>\n",
       "<style scoped>\n",
       "    .dataframe tbody tr th:only-of-type {\n",
       "        vertical-align: middle;\n",
       "    }\n",
       "\n",
       "    .dataframe tbody tr th {\n",
       "        vertical-align: top;\n",
       "    }\n",
       "\n",
       "    .dataframe thead th {\n",
       "        text-align: right;\n",
       "    }\n",
       "</style>\n",
       "<table border=\"1\" class=\"dataframe\">\n",
       "  <thead>\n",
       "    <tr style=\"text-align: right;\">\n",
       "      <th></th>\n",
       "      <th>movie_id</th>\n",
       "      <th>title</th>\n",
       "      <th>year</th>\n",
       "      <th>genres</th>\n",
       "    </tr>\n",
       "  </thead>\n",
       "  <tbody>\n",
       "    <tr>\n",
       "      <th>813</th>\n",
       "      <td>814</td>\n",
       "      <td>Great Day in Harlem, A</td>\n",
       "      <td>1994</td>\n",
       "      <td>Documentary</td>\n",
       "    </tr>\n",
       "  </tbody>\n",
       "</table>\n",
       "</div>"
      ],
      "text/plain": [
       "     movie_id                   title  year       genres\n",
       "813       814  Great Day in Harlem, A  1994  Documentary"
      ]
     },
     "execution_count": 81,
     "metadata": {},
     "output_type": "execute_result"
    }
   ],
   "source": [
    "highest_rated = mean_ratings['rating'].idxmax()\n",
    "movie_df[movie_df['movie_id'] == highest_rated]"
   ]
  },
  {
   "cell_type": "code",
   "execution_count": 82,
   "id": "8fcffcc7-11ca-41e5-9cc8-fec9c941f929",
   "metadata": {},
   "outputs": [
    {
     "data": {
      "text/html": [
       "<div>\n",
       "<style scoped>\n",
       "    .dataframe tbody tr th:only-of-type {\n",
       "        vertical-align: middle;\n",
       "    }\n",
       "\n",
       "    .dataframe tbody tr th {\n",
       "        vertical-align: top;\n",
       "    }\n",
       "\n",
       "    .dataframe thead th {\n",
       "        text-align: right;\n",
       "    }\n",
       "</style>\n",
       "<table border=\"1\" class=\"dataframe\">\n",
       "  <thead>\n",
       "    <tr style=\"text-align: right;\">\n",
       "      <th></th>\n",
       "      <th>user</th>\n",
       "      <th>item</th>\n",
       "      <th>rating</th>\n",
       "      <th>timestamp</th>\n",
       "    </tr>\n",
       "  </thead>\n",
       "  <tbody>\n",
       "    <tr>\n",
       "      <th>6519</th>\n",
       "      <td>13</td>\n",
       "      <td>814</td>\n",
       "      <td>5</td>\n",
       "      <td>886302261</td>\n",
       "    </tr>\n",
       "  </tbody>\n",
       "</table>\n",
       "</div>"
      ],
      "text/plain": [
       "      user  item  rating  timestamp\n",
       "6519    13   814       5  886302261"
      ]
     },
     "execution_count": 82,
     "metadata": {},
     "output_type": "execute_result"
    }
   ],
   "source": [
    "rating_df[rating_df['item']==highest_rated]"
   ]
  },
  {
   "cell_type": "markdown",
   "id": "fdb22b44-9fb7-4baa-97dd-d5f9a36da583",
   "metadata": {},
   "source": [
    "The highest rated movie is `Great Day in Harlem, A (1994)` but there is only one rating which is not representative."
   ]
  },
  {
   "cell_type": "markdown",
   "id": "e4ca3eba-ea7c-41bd-8aff-7a1ad4a016fd",
   "metadata": {},
   "source": [
    "#### Derive a less biased rating metric for a movie\n",
    "\n",
    "From the analysis before, we find that some extreme mean rating are biased because of fewer ratings. We hope to find a metric that could help to better represent the average rating with varing number of ratings."
   ]
  },
  {
   "cell_type": "markdown",
   "id": "5d8d62be-1f5f-4e19-b726-f711a488c13f",
   "metadata": {},
   "source": [
    "##### Bayesian Average\n",
    "\n",
    "[Bayesian Average](https://en.wikipedia.org/wiki/Bayesian_average) is defined as:\n",
    "\n",
    "$r_{i} = \\frac{C \\times m + \\Sigma{\\text{reviews}}}{C+N}$\n",
    "\n",
    "where $C$ represents our confidence, $m$ represents our prior, and $N$ is the total number of reviews for movie $i$. In this case, our prior $m$ will be the average mean rating across all movies. By defintion, C represents \"the typical data set size\". Let's make $C$ be the average number of ratings for a given movie."
   ]
  },
  {
   "cell_type": "code",
   "execution_count": 83,
   "id": "2bd41357-efb8-4140-a129-b3c7b96dd875",
   "metadata": {},
   "outputs": [
    {
     "data": {
      "text/html": [
       "<div>\n",
       "<style scoped>\n",
       "    .dataframe tbody tr th:only-of-type {\n",
       "        vertical-align: middle;\n",
       "    }\n",
       "\n",
       "    .dataframe tbody tr th {\n",
       "        vertical-align: top;\n",
       "    }\n",
       "\n",
       "    .dataframe thead th {\n",
       "        text-align: right;\n",
       "    }\n",
       "</style>\n",
       "<table border=\"1\" class=\"dataframe\">\n",
       "  <thead>\n",
       "    <tr style=\"text-align: right;\">\n",
       "      <th></th>\n",
       "      <th>count</th>\n",
       "      <th>mean</th>\n",
       "    </tr>\n",
       "    <tr>\n",
       "      <th>item</th>\n",
       "      <th></th>\n",
       "      <th></th>\n",
       "    </tr>\n",
       "  </thead>\n",
       "  <tbody>\n",
       "    <tr>\n",
       "      <th>1</th>\n",
       "      <td>452</td>\n",
       "      <td>3.878319</td>\n",
       "    </tr>\n",
       "    <tr>\n",
       "      <th>2</th>\n",
       "      <td>131</td>\n",
       "      <td>3.206107</td>\n",
       "    </tr>\n",
       "    <tr>\n",
       "      <th>3</th>\n",
       "      <td>90</td>\n",
       "      <td>3.033333</td>\n",
       "    </tr>\n",
       "    <tr>\n",
       "      <th>4</th>\n",
       "      <td>209</td>\n",
       "      <td>3.550239</td>\n",
       "    </tr>\n",
       "    <tr>\n",
       "      <th>5</th>\n",
       "      <td>86</td>\n",
       "      <td>3.302326</td>\n",
       "    </tr>\n",
       "  </tbody>\n",
       "</table>\n",
       "</div>"
      ],
      "text/plain": [
       "      count      mean\n",
       "item                 \n",
       "1       452  3.878319\n",
       "2       131  3.206107\n",
       "3        90  3.033333\n",
       "4       209  3.550239\n",
       "5        86  3.302326"
      ]
     },
     "execution_count": 83,
     "metadata": {},
     "output_type": "execute_result"
    }
   ],
   "source": [
    "movie_stats = rating_df.groupby('item')['rating'].agg(['count', 'mean'])\n",
    "movie_stats.head()"
   ]
  },
  {
   "cell_type": "code",
   "execution_count": 84,
   "id": "c16d7487-43ad-487d-8a3d-7357b13f7997",
   "metadata": {},
   "outputs": [
    {
     "name": "stdout",
     "output_type": "stream",
     "text": [
      "Average number of ratings for a given movie: 59.45\n",
      "Average rating for a given movie: 3.08\n"
     ]
    }
   ],
   "source": [
    "C = movie_stats['count'].mean()\n",
    "m = movie_stats['mean'].mean()\n",
    "\n",
    "print(f\"Average number of ratings for a given movie: {C:.2f}\")\n",
    "print(f\"Average rating for a given movie: {m:.2f}\")\n",
    "\n",
    "def bayesian_avg(ratings):\n",
    "    bayesian_avg = (C*m+ratings.sum())/(C+ratings.count())\n",
    "    return round(bayesian_avg, 3)"
   ]
  },
  {
   "cell_type": "code",
   "execution_count": 85,
   "id": "cee87999-fd83-438f-8ece-c9182e273da0",
   "metadata": {},
   "outputs": [],
   "source": [
    "bayesian_avg_ratings = rating_df.groupby('item')['rating'].agg(bayesian_avg).reset_index()\n",
    "bayesian_avg_ratings.columns = ['item', 'bayesian_avg']\n",
    "movie_stats = movie_stats.merge(bayesian_avg_ratings, on='item')"
   ]
  },
  {
   "cell_type": "code",
   "execution_count": 86,
   "id": "2b2df0bc-eed5-41e5-8df2-0186aba9b665",
   "metadata": {},
   "outputs": [
    {
     "data": {
      "text/html": [
       "<div>\n",
       "<style scoped>\n",
       "    .dataframe tbody tr th:only-of-type {\n",
       "        vertical-align: middle;\n",
       "    }\n",
       "\n",
       "    .dataframe tbody tr th {\n",
       "        vertical-align: top;\n",
       "    }\n",
       "\n",
       "    .dataframe thead th {\n",
       "        text-align: right;\n",
       "    }\n",
       "</style>\n",
       "<table border=\"1\" class=\"dataframe\">\n",
       "  <thead>\n",
       "    <tr style=\"text-align: right;\">\n",
       "      <th></th>\n",
       "      <th>item</th>\n",
       "      <th>count</th>\n",
       "      <th>mean</th>\n",
       "      <th>bayesian_avg</th>\n",
       "    </tr>\n",
       "  </thead>\n",
       "  <tbody>\n",
       "    <tr>\n",
       "      <th>0</th>\n",
       "      <td>1</td>\n",
       "      <td>452</td>\n",
       "      <td>3.878319</td>\n",
       "      <td>3.785</td>\n",
       "    </tr>\n",
       "    <tr>\n",
       "      <th>1</th>\n",
       "      <td>2</td>\n",
       "      <td>131</td>\n",
       "      <td>3.206107</td>\n",
       "      <td>3.166</td>\n",
       "    </tr>\n",
       "    <tr>\n",
       "      <th>2</th>\n",
       "      <td>3</td>\n",
       "      <td>90</td>\n",
       "      <td>3.033333</td>\n",
       "      <td>3.050</td>\n",
       "    </tr>\n",
       "    <tr>\n",
       "      <th>3</th>\n",
       "      <td>4</td>\n",
       "      <td>209</td>\n",
       "      <td>3.550239</td>\n",
       "      <td>3.445</td>\n",
       "    </tr>\n",
       "    <tr>\n",
       "      <th>4</th>\n",
       "      <td>5</td>\n",
       "      <td>86</td>\n",
       "      <td>3.302326</td>\n",
       "      <td>3.210</td>\n",
       "    </tr>\n",
       "  </tbody>\n",
       "</table>\n",
       "</div>"
      ],
      "text/plain": [
       "   item  count      mean  bayesian_avg\n",
       "0     1    452  3.878319         3.785\n",
       "1     2    131  3.206107         3.166\n",
       "2     3     90  3.033333         3.050\n",
       "3     4    209  3.550239         3.445\n",
       "4     5     86  3.302326         3.210"
      ]
     },
     "execution_count": 86,
     "metadata": {},
     "output_type": "execute_result"
    }
   ],
   "source": [
    "movie_stats.head()"
   ]
  },
  {
   "cell_type": "code",
   "execution_count": 87,
   "id": "4dfddc5e",
   "metadata": {},
   "outputs": [
    {
     "data": {
      "text/plain": [
       "Index(['movie_id', 'title', 'year', 'genres'], dtype='object')"
      ]
     },
     "execution_count": 87,
     "metadata": {},
     "output_type": "execute_result"
    }
   ],
   "source": [
    "movie_df.columns"
   ]
  },
  {
   "cell_type": "code",
   "execution_count": 88,
   "id": "a9be8d35-c0ca-4acb-9605-b3b172837b38",
   "metadata": {},
   "outputs": [
    {
     "data": {
      "text/html": [
       "<div>\n",
       "<style scoped>\n",
       "    .dataframe tbody tr th:only-of-type {\n",
       "        vertical-align: middle;\n",
       "    }\n",
       "\n",
       "    .dataframe tbody tr th {\n",
       "        vertical-align: top;\n",
       "    }\n",
       "\n",
       "    .dataframe thead th {\n",
       "        text-align: right;\n",
       "    }\n",
       "</style>\n",
       "<table border=\"1\" class=\"dataframe\">\n",
       "  <thead>\n",
       "    <tr style=\"text-align: right;\">\n",
       "      <th></th>\n",
       "      <th>item</th>\n",
       "      <th>count</th>\n",
       "      <th>mean</th>\n",
       "      <th>bayesian_avg</th>\n",
       "      <th>movie_id</th>\n",
       "      <th>title</th>\n",
       "    </tr>\n",
       "  </thead>\n",
       "  <tbody>\n",
       "    <tr>\n",
       "      <th>49</th>\n",
       "      <td>50</td>\n",
       "      <td>583</td>\n",
       "      <td>4.358491</td>\n",
       "      <td>4.240</td>\n",
       "      <td>50</td>\n",
       "      <td>Star Wars</td>\n",
       "    </tr>\n",
       "    <tr>\n",
       "      <th>317</th>\n",
       "      <td>318</td>\n",
       "      <td>298</td>\n",
       "      <td>4.466443</td>\n",
       "      <td>4.235</td>\n",
       "      <td>318</td>\n",
       "      <td>Schindler's List</td>\n",
       "    </tr>\n",
       "    <tr>\n",
       "      <th>63</th>\n",
       "      <td>64</td>\n",
       "      <td>283</td>\n",
       "      <td>4.445230</td>\n",
       "      <td>4.208</td>\n",
       "      <td>64</td>\n",
       "      <td>Shawshank Redemption, The</td>\n",
       "    </tr>\n",
       "    <tr>\n",
       "      <th>482</th>\n",
       "      <td>483</td>\n",
       "      <td>243</td>\n",
       "      <td>4.456790</td>\n",
       "      <td>4.185</td>\n",
       "      <td>483</td>\n",
       "      <td>Casablanca</td>\n",
       "    </tr>\n",
       "    <tr>\n",
       "      <th>11</th>\n",
       "      <td>12</td>\n",
       "      <td>267</td>\n",
       "      <td>4.385768</td>\n",
       "      <td>4.147</td>\n",
       "      <td>12</td>\n",
       "      <td>Usual Suspects, The</td>\n",
       "    </tr>\n",
       "  </tbody>\n",
       "</table>\n",
       "</div>"
      ],
      "text/plain": [
       "     item  count      mean  bayesian_avg  movie_id                      title\n",
       "49     50    583  4.358491         4.240        50                  Star Wars\n",
       "317   318    298  4.466443         4.235       318           Schindler's List\n",
       "63     64    283  4.445230         4.208        64  Shawshank Redemption, The\n",
       "482   483    243  4.456790         4.185       483                 Casablanca\n",
       "11     12    267  4.385768         4.147        12        Usual Suspects, The"
      ]
     },
     "execution_count": 88,
     "metadata": {},
     "output_type": "execute_result"
    }
   ],
   "source": [
    "movie_stats = movie_stats.merge(movie_df[['movie_id', 'title']], left_on='item', right_on='movie_id')\n",
    "movie_stats.sort_values('bayesian_avg', ascending=False).head()"
   ]
  },
  {
   "cell_type": "markdown",
   "id": "1e58bfbe-601a-4991-94ab-c7da5d277e19",
   "metadata": {},
   "source": [
    "Using the Bayesian average, we see that `Star Wars`, `Schindler's List`, and `Shawshank Redemption` are the most highly rated movies. This result makes much more sense since these movies are also on the top list from many rating sites."
   ]
  },
  {
   "cell_type": "code",
   "execution_count": 89,
   "id": "605ce885-24a3-45ea-981e-67815a0490c9",
   "metadata": {},
   "outputs": [
    {
     "data": {
      "text/html": [
       "<div>\n",
       "<style scoped>\n",
       "    .dataframe tbody tr th:only-of-type {\n",
       "        vertical-align: middle;\n",
       "    }\n",
       "\n",
       "    .dataframe tbody tr th {\n",
       "        vertical-align: top;\n",
       "    }\n",
       "\n",
       "    .dataframe thead th {\n",
       "        text-align: right;\n",
       "    }\n",
       "</style>\n",
       "<table border=\"1\" class=\"dataframe\">\n",
       "  <thead>\n",
       "    <tr style=\"text-align: right;\">\n",
       "      <th></th>\n",
       "      <th>item</th>\n",
       "      <th>count</th>\n",
       "      <th>mean</th>\n",
       "      <th>bayesian_avg</th>\n",
       "      <th>movie_id</th>\n",
       "      <th>title</th>\n",
       "    </tr>\n",
       "  </thead>\n",
       "  <tbody>\n",
       "    <tr>\n",
       "      <th>687</th>\n",
       "      <td>688</td>\n",
       "      <td>44</td>\n",
       "      <td>1.840909</td>\n",
       "      <td>2.551</td>\n",
       "      <td>688</td>\n",
       "      <td>Leave It to Beaver</td>\n",
       "    </tr>\n",
       "    <tr>\n",
       "      <th>686</th>\n",
       "      <td>687</td>\n",
       "      <td>69</td>\n",
       "      <td>2.188406</td>\n",
       "      <td>2.599</td>\n",
       "      <td>687</td>\n",
       "      <td>McHale's Navy</td>\n",
       "    </tr>\n",
       "    <tr>\n",
       "      <th>121</th>\n",
       "      <td>122</td>\n",
       "      <td>106</td>\n",
       "      <td>2.339623</td>\n",
       "      <td>2.604</td>\n",
       "      <td>122</td>\n",
       "      <td>Cable Guy, The</td>\n",
       "    </tr>\n",
       "    <tr>\n",
       "      <th>889</th>\n",
       "      <td>890</td>\n",
       "      <td>43</td>\n",
       "      <td>1.953488</td>\n",
       "      <td>2.605</td>\n",
       "      <td>890</td>\n",
       "      <td>Mortal Kombat: Annihilation</td>\n",
       "    </tr>\n",
       "    <tr>\n",
       "      <th>987</th>\n",
       "      <td>988</td>\n",
       "      <td>86</td>\n",
       "      <td>2.313953</td>\n",
       "      <td>2.625</td>\n",
       "      <td>988</td>\n",
       "      <td>Beautician and the Beast, The</td>\n",
       "    </tr>\n",
       "  </tbody>\n",
       "</table>\n",
       "</div>"
      ],
      "text/plain": [
       "     item  count      mean  bayesian_avg  movie_id  \\\n",
       "687   688     44  1.840909         2.551       688   \n",
       "686   687     69  2.188406         2.599       687   \n",
       "121   122    106  2.339623         2.604       122   \n",
       "889   890     43  1.953488         2.605       890   \n",
       "987   988     86  2.313953         2.625       988   \n",
       "\n",
       "                             title  \n",
       "687             Leave It to Beaver  \n",
       "686                  McHale's Navy  \n",
       "121                 Cable Guy, The  \n",
       "889    Mortal Kombat: Annihilation  \n",
       "987  Beautician and the Beast, The  "
      ]
     },
     "execution_count": 89,
     "metadata": {},
     "output_type": "execute_result"
    }
   ],
   "source": [
    "movie_stats.sort_values('bayesian_avg', ascending=True).head()"
   ]
  },
  {
   "cell_type": "markdown",
   "id": "cad5c06d-f380-43fe-a751-e951bd3182a5",
   "metadata": {},
   "source": [
    "### A Glimpse at Movie Genres\n",
    "\n",
    "A movie can be characterized by different genres. The raw data is not yet processed so we could analyze it. Once the genre data is cleaned up, we will explore what information we could derive from movie genres."
   ]
  },
  {
   "cell_type": "code",
   "execution_count": 90,
   "id": "e9da3efa-4020-4bdd-b343-f56706dac395",
   "metadata": {},
   "outputs": [
    {
     "data": {
      "text/html": [
       "<div>\n",
       "<style scoped>\n",
       "    .dataframe tbody tr th:only-of-type {\n",
       "        vertical-align: middle;\n",
       "    }\n",
       "\n",
       "    .dataframe tbody tr th {\n",
       "        vertical-align: top;\n",
       "    }\n",
       "\n",
       "    .dataframe thead th {\n",
       "        text-align: right;\n",
       "    }\n",
       "</style>\n",
       "<table border=\"1\" class=\"dataframe\">\n",
       "  <thead>\n",
       "    <tr style=\"text-align: right;\">\n",
       "      <th></th>\n",
       "      <th>movie_id</th>\n",
       "      <th>title</th>\n",
       "      <th>year</th>\n",
       "      <th>genres</th>\n",
       "    </tr>\n",
       "  </thead>\n",
       "  <tbody>\n",
       "    <tr>\n",
       "      <th>0</th>\n",
       "      <td>1</td>\n",
       "      <td>Toy Story</td>\n",
       "      <td>1995</td>\n",
       "      <td>[Animation, Children's, Comedy]</td>\n",
       "    </tr>\n",
       "    <tr>\n",
       "      <th>1</th>\n",
       "      <td>2</td>\n",
       "      <td>GoldenEye</td>\n",
       "      <td>1995</td>\n",
       "      <td>[Action, Adventure, Thriller]</td>\n",
       "    </tr>\n",
       "    <tr>\n",
       "      <th>2</th>\n",
       "      <td>3</td>\n",
       "      <td>Four Rooms</td>\n",
       "      <td>1995</td>\n",
       "      <td>[Thriller]</td>\n",
       "    </tr>\n",
       "    <tr>\n",
       "      <th>3</th>\n",
       "      <td>4</td>\n",
       "      <td>Get Shorty</td>\n",
       "      <td>1995</td>\n",
       "      <td>[Action, Comedy, Drama]</td>\n",
       "    </tr>\n",
       "    <tr>\n",
       "      <th>4</th>\n",
       "      <td>5</td>\n",
       "      <td>Copycat</td>\n",
       "      <td>1995</td>\n",
       "      <td>[Crime, Drama, Thriller]</td>\n",
       "    </tr>\n",
       "  </tbody>\n",
       "</table>\n",
       "</div>"
      ],
      "text/plain": [
       "   movie_id       title  year                           genres\n",
       "0         1   Toy Story  1995  [Animation, Children's, Comedy]\n",
       "1         2   GoldenEye  1995    [Action, Adventure, Thriller]\n",
       "2         3  Four Rooms  1995                       [Thriller]\n",
       "3         4  Get Shorty  1995          [Action, Comedy, Drama]\n",
       "4         5     Copycat  1995         [Crime, Drama, Thriller]"
      ]
     },
     "execution_count": 90,
     "metadata": {},
     "output_type": "execute_result"
    }
   ],
   "source": [
    "movie_df['genres'] = movie_df['genres'].apply(lambda x: x.split(\"|\"))\n",
    "movie_df.head()"
   ]
  },
  {
   "cell_type": "markdown",
   "id": "625f50c3-780d-43c0-87c0-2b59768f776f",
   "metadata": {},
   "source": [
    "**How many movie genres are there?**"
   ]
  },
  {
   "cell_type": "code",
   "execution_count": 91,
   "id": "c6d7e2db-0538-44fc-8b12-d62bd7ad1d5a",
   "metadata": {},
   "outputs": [
    {
     "name": "stdout",
     "output_type": "stream",
     "text": [
      "There are 19 genres in total in this dataset.\n"
     ]
    },
    {
     "data": {
      "text/plain": [
       "Counter({'Drama': 725,\n",
       "         'Comedy': 505,\n",
       "         'Action': 251,\n",
       "         'Thriller': 251,\n",
       "         'Romance': 247,\n",
       "         'Adventure': 135,\n",
       "         \"Children's\": 122,\n",
       "         'Crime': 109,\n",
       "         'Sci-Fi': 101,\n",
       "         'Horror': 92,\n",
       "         'War': 71,\n",
       "         'Mystery': 61,\n",
       "         'Musical': 56,\n",
       "         'Documentary': 50,\n",
       "         'Animation': 42,\n",
       "         'Western': 27,\n",
       "         'Film-Noir': 24,\n",
       "         'Fantasy': 22,\n",
       "         'unknown': 2})"
      ]
     },
     "execution_count": 91,
     "metadata": {},
     "output_type": "execute_result"
    }
   ],
   "source": [
    "from collections import Counter\n",
    "\n",
    "genre_frequency = Counter(g for genres in movie_df['genres'] for g in genres)\n",
    "\n",
    "print(f\"There are {len(genre_frequency)} genres in total in this dataset.\")\n",
    "\n",
    "genre_frequency"
   ]
  },
  {
   "cell_type": "code",
   "execution_count": 92,
   "id": "b0220b04-9912-495b-9f8b-879767541992",
   "metadata": {},
   "outputs": [
    {
     "name": "stdout",
     "output_type": "stream",
     "text": [
      "The 5 most common genres: \n",
      " [('Drama', 725), ('Comedy', 505), ('Action', 251), ('Thriller', 251), ('Romance', 247)]\n"
     ]
    }
   ],
   "source": [
    "print(\"The 5 most common genres: \\n\", genre_frequency.most_common(5))"
   ]
  },
  {
   "cell_type": "markdown",
   "id": "616e55b2-b0f7-4e80-b378-19e337204962",
   "metadata": {},
   "source": [
    "The top 5 genres are: `Drama`, `Comedy`, `Action`, `Thriller` and `Romance`.\n",
    "\n",
    "Let's also visualize genre popularity with a barplot."
   ]
  },
  {
   "cell_type": "code",
   "execution_count": 93,
   "id": "6ffb3fa8-29a0-4b7d-b863-b106fc1f7ce0",
   "metadata": {},
   "outputs": [
    {
     "data": {
      "image/png": "[encoded data removed]",
      "text/plain": [
       "<Figure size 640x480 with 1 Axes>"
      ]
     },
     "metadata": {},
     "output_type": "display_data"
    }
   ],
   "source": [
    "genre_frequency_df = pd.DataFrame([genre_frequency]).T.reset_index()\n",
    "genre_frequency_df.columns = ['genre', 'count']\n",
    "\n",
    "sns.barplot(x='genre', y='count', data=genre_frequency_df.sort_values(by='count', ascending=False))\n",
    "plt.xticks(rotation=90)\n",
    "plt.show()"
   ]
  },
  {
   "cell_type": "markdown",
   "id": "3435b922-3165-4cc5-ac7d-70f038b17f35",
   "metadata": {},
   "source": [
    "#### Data Analysis with Graph Science ####\n",
    "The following section will explore the graph structure of the data to help infer an appropriate model structure for later stages."
   ]
  },
  {
   "cell_type": "code",
   "execution_count": 94,
   "id": "6588e98a",
   "metadata": {},
   "outputs": [
    {
     "data": {
      "text/plain": [
       "Index(['user', 'item', 'rating', 'timestamp'], dtype='object')"
      ]
     },
     "execution_count": 94,
     "metadata": {},
     "output_type": "execute_result"
    }
   ],
   "source": [
    "rating_df.columns"
   ]
  },
  {
   "cell_type": "code",
   "execution_count": 95,
   "id": "0a900b0b-4d3f-4761-92de-789c6e44836a",
   "metadata": {},
   "outputs": [],
   "source": [
    "from scipy.sparse import csr_matrix\n",
    "\n",
    "def create_X(df):\n",
    "    \"\"\"\n",
    "    Generates a sparse matrix from ratings dataframe.\n",
    "    \n",
    "    Args:\n",
    "        df: pandas dataframe containing 3 columns (user, movieId, rating)\n",
    "    \n",
    "    Returns:\n",
    "        X: sparse matrix\n",
    "        user_mapper: dict that maps user id's to user indices\n",
    "        user_inv_mapper: dict that maps user indices to user id's\n",
    "        movie_mapper: dict that maps movie id's to movie indices\n",
    "        movie_inv_mapper: dict that maps movie indices to movie id's\n",
    "    \"\"\"\n",
    "    M = df['user'].nunique()\n",
    "    N = df['item'].nunique()\n",
    "\n",
    "    user_mapper = dict(zip(np.unique(df[\"user\"]), list(range(M))))\n",
    "    movie_mapper = dict(zip(np.unique(df[\"item\"]), list(range(N))))\n",
    "    \n",
    "    user_inv_mapper = dict(zip(list(range(M)), np.unique(df[\"user\"])))\n",
    "    movie_inv_mapper = dict(zip(list(range(N)), np.unique(df[\"item\"])))\n",
    "    \n",
    "    user_index = [user_mapper[i] for i in df['user']]\n",
    "    item_index = [movie_mapper[i] for i in df['item']]\n",
    "\n",
    "    X = csr_matrix((df[\"rating\"], (user_index,item_index)), shape=(M,N))\n",
    "    \n",
    "    return X, user_mapper, movie_mapper, user_inv_mapper, movie_inv_mapper\n",
    "\n",
    "X, user_mapper, movie_mapper, user_inv_mapper, movie_inv_mapper = create_X(rating_df)"
   ]
  },
  {
   "cell_type": "markdown",
   "id": "0abf015e-0c62-491a-9180-583b67ae18fa",
   "metadata": {},
   "source": [
    "### Evaluating sparsity\n",
    "\n",
    "Here, we calculate sparsity by dividing the number of stored elements by total number of elements. The number of stored (non-empty) elements in our matrix ([nnz](https://docs.scipy.org/doc/scipy/reference/generated/scipy.sparse.csr_matrix.nnz.html)) is equivalent to the number of ratings in our dataset."
   ]
  },
  {
   "cell_type": "code",
   "execution_count": 96,
   "id": "0c2d7ce2-0df8-46f0-b6a8-881b515766bb",
   "metadata": {},
   "outputs": [
    {
     "name": "stdout",
     "output_type": "stream",
     "text": [
      "Matrix sparsity: 6.3%\n"
     ]
    }
   ],
   "source": [
    "n_total = X.shape[0]*X.shape[1]\n",
    "n_ratings = X.nnz\n",
    "sparsity = n_ratings/n_total\n",
    "print(f\"Matrix sparsity: {round(sparsity*100,2)}%\")"
   ]
  },
  {
   "cell_type": "markdown",
   "id": "21988e19-beb3-46fe-b924-5bdcdd826a9e",
   "metadata": {},
   "source": [
    "Only 6.3% of all possible connections are observed in the data, highlighting the significance of the cold start problem in improving prediction accuracy.\n",
    "The **cold start problem** is when there are new users and movies in our matrix that do not have any ratings. In our Movielens dataset, all users and movies have at least one rating but in general, it's useful to check which users and movies have few interactions."
   ]
  },
  {
   "cell_type": "code",
   "execution_count": 97,
   "id": "ff3a949f-158a-4eb9-9a04-3fc601a08b2a",
   "metadata": {},
   "outputs": [
    {
     "data": {
      "text/plain": [
       "943"
      ]
     },
     "execution_count": 97,
     "metadata": {},
     "output_type": "execute_result"
    }
   ],
   "source": [
    "n_ratings_per_user = X.getnnz(axis=1)\n",
    "len(n_ratings_per_user)"
   ]
  },
  {
   "cell_type": "code",
   "execution_count": 98,
   "id": "3c6bac10-aba7-4a39-ad97-8e795d446ba4",
   "metadata": {},
   "outputs": [
    {
     "name": "stdout",
     "output_type": "stream",
     "text": [
      "Most active user rated 737 movies.\n",
      "Least active user rated 20 movies.\n",
      "On average, an user would rate 106 movies.\n"
     ]
    }
   ],
   "source": [
    "print(f\"Most active user rated {n_ratings_per_user.max()} movies.\")\n",
    "print(f\"Least active user rated {n_ratings_per_user.min()} movies.\")\n",
    "print(f\"On average, an user would rate {round(n_ratings_per_user.mean())} movies.\")"
   ]
  },
  {
   "cell_type": "code",
   "execution_count": 99,
   "id": "537a16f4-6941-491f-8016-d10b802f0c68",
   "metadata": {},
   "outputs": [
    {
     "data": {
      "text/plain": [
       "1682"
      ]
     },
     "execution_count": 99,
     "metadata": {},
     "output_type": "execute_result"
    }
   ],
   "source": [
    "n_ratings_per_movie = X.getnnz(axis=0)\n",
    "len(n_ratings_per_movie)"
   ]
  },
  {
   "cell_type": "code",
   "execution_count": 100,
   "id": "0ed41307-83b5-42c1-9331-86c92e86ec3b",
   "metadata": {},
   "outputs": [
    {
     "name": "stdout",
     "output_type": "stream",
     "text": [
      "Most rated movie has 583 ratings.\n",
      "Least rated movie has 1 ratings.\n",
      "On average, a movie has 59 ratings.\n"
     ]
    }
   ],
   "source": [
    "print(f\"Most rated movie has {n_ratings_per_movie.max()} ratings.\")\n",
    "print(f\"Least rated movie has {n_ratings_per_movie.min()} ratings.\")\n",
    "print(f\"On average, a movie has {round(n_ratings_per_movie.mean())} ratings.\")"
   ]
  },
  {
   "cell_type": "code",
   "execution_count": 101,
   "id": "96b1e69d-e95a-4236-a3de-9e4d886d4e94",
   "metadata": {},
   "outputs": [
    {
     "name": "stderr",
     "output_type": "stream",
     "text": [
      "/var/folders/9_/rwbmnd2917s2ynq8fvvlmq_80000gn/T/ipykernel_20827/3364525973.py:3: FutureWarning: \n",
      "\n",
      "`shade` is now deprecated in favor of `fill`; setting `fill=True`.\n",
      "This will become an error in seaborn v0.14.0; please update your code.\n",
      "\n",
      "  sns.kdeplot(n_ratings_per_user, shade=True)\n",
      "/var/folders/9_/rwbmnd2917s2ynq8fvvlmq_80000gn/T/ipykernel_20827/3364525973.py:9: FutureWarning: \n",
      "\n",
      "`shade` is now deprecated in favor of `fill`; setting `fill=True`.\n",
      "This will become an error in seaborn v0.14.0; please update your code.\n",
      "\n",
      "  sns.kdeplot(n_ratings_per_movie, shade=True)\n"
     ]
    },
    {
     "data": {
      "image/png": "[encoded data removed]",
      "text/plain": [
       "<Figure size 1600x400 with 2 Axes>"
      ]
     },
     "metadata": {},
     "output_type": "display_data"
    }
   ],
   "source": [
    "plt.figure(figsize=(16,4))\n",
    "plt.subplot(1,2,1)\n",
    "sns.kdeplot(n_ratings_per_user, shade=True)\n",
    "plt.xlim(0)\n",
    "plt.title(\"Number of Ratings Per User\", fontsize=14)\n",
    "plt.xlabel(\"number of ratings per user\")\n",
    "plt.ylabel(\"density\")\n",
    "plt.subplot(1,2,2)\n",
    "sns.kdeplot(n_ratings_per_movie, shade=True)\n",
    "plt.xlim(0)\n",
    "plt.title(\"Number of Ratings Per Movie\", fontsize=14)\n",
    "plt.xlabel(\"number of ratings per movie\")\n",
    "plt.ylabel(\"density\")\n",
    "plt.show()"
   ]
  },
  {
   "cell_type": "markdown",
   "id": "ec19d138-ea24-4635-bce5-2f4375dd9fd5",
   "metadata": {},
   "source": [
    "The analysis above suggests that the cold start problem is quite severe due to the highly right-skewed distributions. Therefore, it indicates that implementing content filtering recommendation techniques is essential to enhance prediction accuracy."
   ]
  }
 ],
 "metadata": {
  "kernelspec": {
   "display_name": "recommender",
   "language": "python",
   "name": "recommender"
  },
  "language_info": {
   "codemirror_mode": {
    "name": "ipython",
    "version": 3
   },
   "file_extension": ".py",
   "mimetype": "text/x-python",
   "name": "python",
   "nbconvert_exporter": "python",
   "pygments_lexer": "ipython3",
   "version": "3.11.8"
  }
 },
 "nbformat": 4,
 "nbformat_minor": 5
}
