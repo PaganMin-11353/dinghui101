{
 "cells": [
  {
   "cell_type": "markdown",
   "id": "16a6c0ad-183e-45c8-b445-9c750a559d65",
   "metadata": {},
   "source": [
    "# Project - Building a MovieLens Recommender System Using Graphs\n",
    "\n",
    "### Source of Data - MovieLens\n",
    "\n",
    "[MovieLens](https://grouplens.org/datasets/movielens/) is the data used in this project to test and train the recommendation system. It was developed by GroupLens, a computer science research lab at the University of Minnesota. It recommends movies to its users based on their movie ratings."
   ]
  },
  {
   "cell_type": "code",
   "execution_count": 338,
   "id": "b78bf337-255c-4ccf-baee-8af3158cbdb7",
   "metadata": {},
   "outputs": [],
   "source": [
    "import numpy as np\n",
    "import pandas as pd\n",
    "import matplotlib.pyplot as plt\n",
    "import seaborn as sns\n",
    "from utils.dataloader import DataLoader "
   ]
  },
  {
   "cell_type": "markdown",
   "id": "5028b1e8",
   "metadata": {},
   "source": [
    "### 1. Data load"
   ]
  },
  {
   "cell_type": "code",
   "execution_count": 359,
   "id": "be588ff2-03c7-40db-a61d-e871a6a427d3",
   "metadata": {},
   "outputs": [
    {
     "name": "stdout",
     "output_type": "stream",
     "text": [
      "Ratings Data: 100000\n",
      "   user  item  rating  timestamp\n",
      "0   196   242       3  881250949\n",
      "1   186   302       3  891717742\n",
      "2    22   377       1  878887116\n",
      "3   244    51       2  880606923\n",
      "4   166   346       1  886397596\n",
      "\n",
      "Movie Data: 1682\n",
      "   movie_id       title  year                       genres\n",
      "0         1   Toy Story  1995  Animation|Children's|Comedy\n",
      "1         2   GoldenEye  1995    Action|Adventure|Thriller\n",
      "2         3  Four Rooms  1995                     Thriller\n",
      "3         4  Get Shorty  1995          Action|Comedy|Drama\n",
      "4         5     Copycat  1995         Crime|Drama|Thriller\n",
      "\n",
      "User Data: 943\n",
      "   userid    age gender  occupation zipcode\n",
      "0       1  18-24      M          19   85711\n",
      "1       2  50-55      F          13   94043\n",
      "2       3  18-24      M          20   32067\n",
      "3       4  18-24      M          19   43537\n",
      "4       5  25-34      F          13   15213\n"
     ]
    }
   ],
   "source": [
    "# Define the dataset size (100k or 1m)\n",
    "dataset_size = \"100k\"  # You can also use \"1m\" for a larger dataset\n",
    "\n",
    "# Ensure files are downloaded, if not already present\n",
    "movie_data = DataLoader(size=dataset_size)\n",
    "\n",
    "# Load rating data\n",
    "rating_df = movie_data.load_ratings()\n",
    "\n",
    "# Load movie data\n",
    "movie_df = movie_data.load_items(\n",
    "    process_title=True, process_year=True, process_genres=True, genres_as_binary=False)\n",
    "\n",
    "# Load user data\n",
    "user_df= movie_data.load_user_features(True, True)\n",
    "\n",
    "# Load actors and directors data\n",
    "fetched_movies = pd.read_csv(\"./data/fetched_movies.csv\")\n",
    "semantics_info = fetched_movies[['MovieLens_ID', 'Director', 'Actors']]\n",
    "\n",
    "# Display sample data\n",
    "print(\"Ratings Data:\", len(rating_df))\n",
    "print(rating_df.head())\n",
    "print(\"\\nMovie Data:\", len(movie_df))\n",
    "print(movie_df.head())\n",
    "if user_df is not None:\n",
    "    print(\"\\nUser Data:\", len(user_df))\n",
    "    print(user_df.head())"
   ]
  },
  {
   "cell_type": "markdown",
   "id": "3747b265",
   "metadata": {},
   "source": [
    "### 2. Data Analysis with Graph Science ####\n",
    "Firstly, we explore the graph structure of the data to help infer an appropriate model structure for later stages."
   ]
  },
  {
   "cell_type": "code",
   "execution_count": 360,
   "id": "9ab35a02",
   "metadata": {},
   "outputs": [
    {
     "data": {
      "text/plain": [
       "Index(['user', 'item', 'rating', 'timestamp'], dtype='object')"
      ]
     },
     "execution_count": 360,
     "metadata": {},
     "output_type": "execute_result"
    }
   ],
   "source": [
    "rating_df.columns"
   ]
  },
  {
   "cell_type": "code",
   "execution_count": 361,
   "id": "c00b466d",
   "metadata": {},
   "outputs": [],
   "source": [
    "from scipy.sparse import csr_matrix\n",
    "\n",
    "def create_X(df):\n",
    "    \"\"\"\n",
    "    Generates a sparse matrix from ratings dataframe.\n",
    "    \n",
    "    Args:\n",
    "        df: pandas dataframe containing 3 columns (user, movieId, rating)\n",
    "    \n",
    "    Returns:\n",
    "        X: sparse matrix\n",
    "        user_mapper: dict that maps user id's to user indices\n",
    "        user_inv_mapper: dict that maps user indices to user id's\n",
    "        movie_mapper: dict that maps movie id's to movie indices\n",
    "        movie_inv_mapper: dict that maps movie indices to movie id's\n",
    "    \"\"\"\n",
    "    M = df['user'].nunique()\n",
    "    N = df['item'].nunique()\n",
    "\n",
    "    user_mapper = dict(zip(np.unique(df[\"user\"]), list(range(M))))\n",
    "    movie_mapper = dict(zip(np.unique(df[\"item\"]), list(range(N))))\n",
    "    \n",
    "    user_inv_mapper = dict(zip(list(range(M)), np.unique(df[\"user\"])))\n",
    "    movie_inv_mapper = dict(zip(list(range(N)), np.unique(df[\"item\"])))\n",
    "    \n",
    "    user_index = [user_mapper[i] for i in df['user']]\n",
    "    item_index = [movie_mapper[i] for i in df['item']]\n",
    "\n",
    "    X = csr_matrix((df[\"rating\"], (user_index,item_index)), shape=(M,N))\n",
    "    \n",
    "    return X, user_mapper, movie_mapper, user_inv_mapper, movie_inv_mapper\n",
    "\n",
    "X, user_mapper, movie_mapper, user_inv_mapper, movie_inv_mapper = create_X(rating_df)"
   ]
  },
  {
   "cell_type": "markdown",
   "id": "26c46827",
   "metadata": {},
   "source": [
    "#### Evaluating sparsity\n",
    "\n",
    "Here, we calculate sparsity by dividing the number of stored elements by total number of elements. The number of stored (non-empty) elements in our matrix ([nnz](https://docs.scipy.org/doc/scipy/reference/generated/scipy.sparse.csr_matrix.nnz.html)) is equivalent to the number of ratings in our dataset."
   ]
  },
  {
   "cell_type": "code",
   "execution_count": 362,
   "id": "7aeb84a3",
   "metadata": {},
   "outputs": [
    {
     "name": "stdout",
     "output_type": "stream",
     "text": [
      "Matrix sparsity: 6.3%\n"
     ]
    }
   ],
   "source": [
    "n_total = X.shape[0]*X.shape[1]\n",
    "n_ratings = X.nnz\n",
    "sparsity = n_ratings/n_total\n",
    "print(f\"Matrix sparsity: {round(sparsity*100,2)}%\")"
   ]
  },
  {
   "cell_type": "markdown",
   "id": "32c88c3c",
   "metadata": {},
   "source": [
    "Only 6.3% of all possible connections are observed in the data, highlighting the significance of the cold start problem in improving prediction accuracy.\n",
    "The **cold start problem** is when there are new users and movies in our matrix that do not have any ratings. In our Movielens dataset, all users and movies have at least one rating but in general, it's useful to check which users and movies have few interactions."
   ]
  },
  {
   "cell_type": "code",
   "execution_count": 363,
   "id": "585393f7",
   "metadata": {},
   "outputs": [
    {
     "data": {
      "text/plain": [
       "943"
      ]
     },
     "execution_count": 363,
     "metadata": {},
     "output_type": "execute_result"
    }
   ],
   "source": [
    "n_ratings_per_user = X.getnnz(axis=1)\n",
    "len(n_ratings_per_user)"
   ]
  },
  {
   "cell_type": "code",
   "execution_count": 364,
   "id": "c5a5f97e",
   "metadata": {},
   "outputs": [
    {
     "name": "stdout",
     "output_type": "stream",
     "text": [
      "Most active user rated 737 movies.\n",
      "Least active user rated 20 movies.\n",
      "On average, an user would rate 106 movies.\n"
     ]
    }
   ],
   "source": [
    "print(f\"Most active user rated {n_ratings_per_user.max()} movies.\")\n",
    "print(f\"Least active user rated {n_ratings_per_user.min()} movies.\")\n",
    "print(f\"On average, an user would rate {round(n_ratings_per_user.mean())} movies.\")"
   ]
  },
  {
   "cell_type": "code",
   "execution_count": 365,
   "id": "d9cad6e7",
   "metadata": {},
   "outputs": [
    {
     "data": {
      "text/plain": [
       "1682"
      ]
     },
     "execution_count": 365,
     "metadata": {},
     "output_type": "execute_result"
    }
   ],
   "source": [
    "n_ratings_per_movie = X.getnnz(axis=0)\n",
    "len(n_ratings_per_movie)"
   ]
  },
  {
   "cell_type": "code",
   "execution_count": 366,
   "id": "8e2362df",
   "metadata": {},
   "outputs": [
    {
     "name": "stdout",
     "output_type": "stream",
     "text": [
      "Most rated movie has 583 ratings.\n",
      "Least rated movie has 1 ratings.\n",
      "On average, a movie has 59 ratings.\n"
     ]
    }
   ],
   "source": [
    "print(f\"Most rated movie has {n_ratings_per_movie.max()} ratings.\")\n",
    "print(f\"Least rated movie has {n_ratings_per_movie.min()} ratings.\")\n",
    "print(f\"On average, a movie has {round(n_ratings_per_movie.mean())} ratings.\")"
   ]
  },
  {
   "cell_type": "code",
   "execution_count": 367,
   "id": "afd020be",
   "metadata": {},
   "outputs": [
    {
     "name": "stderr",
     "output_type": "stream",
     "text": [
      "/var/folders/9_/rwbmnd2917s2ynq8fvvlmq_80000gn/T/ipykernel_20827/3364525973.py:3: FutureWarning:\n",
      "\n",
      "\n",
      "\n",
      "`shade` is now deprecated in favor of `fill`; setting `fill=True`.\n",
      "This will become an error in seaborn v0.14.0; please update your code.\n",
      "\n",
      "\n",
      "/var/folders/9_/rwbmnd2917s2ynq8fvvlmq_80000gn/T/ipykernel_20827/3364525973.py:9: FutureWarning:\n",
      "\n",
      "\n",
      "\n",
      "`shade` is now deprecated in favor of `fill`; setting `fill=True`.\n",
      "This will become an error in seaborn v0.14.0; please update your code.\n",
      "\n",
      "\n"
     ]
    },
    {
     "data": {
      "image/png": "[encoded data removed]",
      "text/plain": [
       "<Figure size 1600x400 with 2 Axes>"
      ]
     },
     "metadata": {},
     "output_type": "display_data"
    }
   ],
   "source": [
    "plt.figure(figsize=(16,4))\n",
    "plt.subplot(1,2,1)\n",
    "sns.kdeplot(n_ratings_per_user, shade=True)\n",
    "plt.xlim(0)\n",
    "plt.title(\"Number of Ratings Per User\", fontsize=14)\n",
    "plt.xlabel(\"number of ratings per user\")\n",
    "plt.ylabel(\"density\")\n",
    "plt.subplot(1,2,2)\n",
    "sns.kdeplot(n_ratings_per_movie, shade=True)\n",
    "plt.xlim(0)\n",
    "plt.title(\"Number of Ratings Per Movie\", fontsize=14)\n",
    "plt.xlabel(\"number of ratings per movie\")\n",
    "plt.ylabel(\"density\")\n",
    "plt.show()"
   ]
  },
  {
   "cell_type": "markdown",
   "id": "760d9f6f",
   "metadata": {},
   "source": [
    "The analysis above suggests that the cold start problem is quite severe due to the highly right-skewed distributions. Therefore, it indicates that implementing content filtering recommendation techniques is essential to enhance prediction accuracy."
   ]
  },
  {
   "cell_type": "markdown",
   "id": "73b55fe3",
   "metadata": {},
   "source": [
    "### 3. A Glimpse at Movies data\n",
    "\n",
    "A movie can be characterized by different genres. The raw data is not yet processed so we could analyze it. Once the genre data is cleaned up, we will explore what information we could derive from movie genres."
   ]
  },
  {
   "cell_type": "code",
   "execution_count": 368,
   "id": "bc05c314",
   "metadata": {},
   "outputs": [
    {
     "data": {
      "text/plain": [
       "Index(['movie_id', 'title', 'year', 'genres'], dtype='object')"
      ]
     },
     "execution_count": 368,
     "metadata": {},
     "output_type": "execute_result"
    }
   ],
   "source": [
    "movie_df.columns"
   ]
  },
  {
   "cell_type": "code",
   "execution_count": 369,
   "id": "d9d84679",
   "metadata": {},
   "outputs": [
    {
     "data": {
      "text/plain": [
       "0       Animation|Children's|Comedy\n",
       "1         Action|Adventure|Thriller\n",
       "2                          Thriller\n",
       "3               Action|Comedy|Drama\n",
       "4              Crime|Drama|Thriller\n",
       "                   ...             \n",
       "1677                          Drama\n",
       "1678               Romance|Thriller\n",
       "1679                  Drama|Romance\n",
       "1680                         Comedy\n",
       "1681                          Drama\n",
       "Name: genres, Length: 1682, dtype: object"
      ]
     },
     "execution_count": 369,
     "metadata": {},
     "output_type": "execute_result"
    }
   ],
   "source": [
    "movie_df['genres']"
   ]
  },
  {
   "cell_type": "markdown",
   "id": "dee76967",
   "metadata": {},
   "source": [
    "#### (1) What is the distribution of movie release years?"
   ]
  },
  {
   "cell_type": "code",
   "execution_count": 370,
   "id": "7f72c111",
   "metadata": {},
   "outputs": [
    {
     "data": {
      "image/png": "[encoded data removed]",
      "text/plain": [
       "<Figure size 640x480 with 1 Axes>"
      ]
     },
     "metadata": {},
     "output_type": "display_data"
    },
    {
     "name": "stdout",
     "output_type": "stream",
     "text": [
      "Max No.of Movies Relesed = 298\n",
      "year = 1996\n"
     ]
    },
    {
     "data": {
      "text/plain": [
       "count     71.000000\n",
       "mean      23.676056\n",
       "std       62.458849\n",
       "min        1.000000\n",
       "25%        4.000000\n",
       "50%        5.000000\n",
       "75%        8.000000\n",
       "max      298.000000\n",
       "Name: title, dtype: float64"
      ]
     },
     "execution_count": 370,
     "metadata": {},
     "output_type": "execute_result"
    }
   ],
   "source": [
    "#Ploting a Graph with No.of Movies each Year corresponding to its Year\n",
    "plt.plot(movie_df.groupby('year').title.count())\n",
    "plt.show()\n",
    "a=movie_df.groupby('year').title.count()\n",
    "print('Max No.of Movies Relesed =',a.max())\n",
    "for i in a.index:\n",
    "    if a[i] == a.max():\n",
    "        print('year =',i)\n",
    "a.describe()"
   ]
  },
  {
   "cell_type": "markdown",
   "id": "b45cbf8a",
   "metadata": {},
   "source": [
    "As the above result we got to know that in 1996 has the highest number of movie releases with 298 Movies. On an Avg. there are around 23 Movies releasing per Year."
   ]
  },
  {
   "cell_type": "markdown",
   "id": "5c1dadec",
   "metadata": {},
   "source": [
    "#### (2) What is the distribution of movie genres?"
   ]
  },
  {
   "cell_type": "markdown",
   "id": "ae1f0d07",
   "metadata": {},
   "source": [
    "A movie can be characterized by different genres. The raw data is not yet processed so we could analyze it. Once the genre data is cleaned up, we will explore what information we could derive from movie genres."
   ]
  },
  {
   "cell_type": "code",
   "execution_count": 371,
   "id": "249386cc",
   "metadata": {},
   "outputs": [],
   "source": [
    "# Merge ratings with user data\n",
    "movie_df.rename(columns={'movie_id': 'item'}, inplace=True)\n",
    "ratings_with_movies = pd.merge(rating_df, movie_df, on='item', how='left')"
   ]
  },
  {
   "cell_type": "code",
   "execution_count": 372,
   "id": "fcf05056",
   "metadata": {},
   "outputs": [
    {
     "data": {
      "text/plain": [
       "0                                  Comedy\n",
       "1        Crime|Film-Noir|Mystery|Thriller\n",
       "2                       Children's|Comedy\n",
       "3               Drama|Romance|War|Western\n",
       "4                             Crime|Drama\n",
       "                       ...               \n",
       "99995                              Comedy\n",
       "99996                       Comedy|Sci-Fi\n",
       "99997                            Thriller\n",
       "99998                   Children's|Comedy\n",
       "99999                             Western\n",
       "Name: genres, Length: 100000, dtype: object"
      ]
     },
     "execution_count": 372,
     "metadata": {},
     "output_type": "execute_result"
    }
   ],
   "source": [
    "ratings_with_movies['genres']"
   ]
  },
  {
   "cell_type": "code",
   "execution_count": 373,
   "id": "25ca5e05",
   "metadata": {},
   "outputs": [
    {
     "data": {
      "text/html": [
       "<div>\n",
       "<style scoped>\n",
       "    .dataframe tbody tr th:only-of-type {\n",
       "        vertical-align: middle;\n",
       "    }\n",
       "\n",
       "    .dataframe tbody tr th {\n",
       "        vertical-align: top;\n",
       "    }\n",
       "\n",
       "    .dataframe thead th {\n",
       "        text-align: right;\n",
       "    }\n",
       "</style>\n",
       "<table border=\"1\" class=\"dataframe\">\n",
       "  <thead>\n",
       "    <tr style=\"text-align: right;\">\n",
       "      <th></th>\n",
       "      <th>user</th>\n",
       "      <th>item</th>\n",
       "      <th>rating</th>\n",
       "      <th>timestamp</th>\n",
       "      <th>title</th>\n",
       "      <th>year</th>\n",
       "      <th>genres</th>\n",
       "    </tr>\n",
       "  </thead>\n",
       "  <tbody>\n",
       "    <tr>\n",
       "      <th>0</th>\n",
       "      <td>196</td>\n",
       "      <td>242</td>\n",
       "      <td>3</td>\n",
       "      <td>881250949</td>\n",
       "      <td>Kolya</td>\n",
       "      <td>1996</td>\n",
       "      <td>[Comedy]</td>\n",
       "    </tr>\n",
       "    <tr>\n",
       "      <th>1</th>\n",
       "      <td>186</td>\n",
       "      <td>302</td>\n",
       "      <td>3</td>\n",
       "      <td>891717742</td>\n",
       "      <td>L.A. Confidential</td>\n",
       "      <td>1997</td>\n",
       "      <td>[Crime, Film-Noir, Mystery, Thriller]</td>\n",
       "    </tr>\n",
       "    <tr>\n",
       "      <th>2</th>\n",
       "      <td>22</td>\n",
       "      <td>377</td>\n",
       "      <td>1</td>\n",
       "      <td>878887116</td>\n",
       "      <td>Heavyweights</td>\n",
       "      <td>1994</td>\n",
       "      <td>[Children's, Comedy]</td>\n",
       "    </tr>\n",
       "    <tr>\n",
       "      <th>3</th>\n",
       "      <td>244</td>\n",
       "      <td>51</td>\n",
       "      <td>2</td>\n",
       "      <td>880606923</td>\n",
       "      <td>Legends of the Fall</td>\n",
       "      <td>1994</td>\n",
       "      <td>[Drama, Romance, War, Western]</td>\n",
       "    </tr>\n",
       "    <tr>\n",
       "      <th>4</th>\n",
       "      <td>166</td>\n",
       "      <td>346</td>\n",
       "      <td>1</td>\n",
       "      <td>886397596</td>\n",
       "      <td>Jackie Brown</td>\n",
       "      <td>1997</td>\n",
       "      <td>[Crime, Drama]</td>\n",
       "    </tr>\n",
       "  </tbody>\n",
       "</table>\n",
       "</div>"
      ],
      "text/plain": [
       "   user  item  rating  timestamp                title  year  \\\n",
       "0   196   242       3  881250949                Kolya  1996   \n",
       "1   186   302       3  891717742    L.A. Confidential  1997   \n",
       "2    22   377       1  878887116         Heavyweights  1994   \n",
       "3   244    51       2  880606923  Legends of the Fall  1994   \n",
       "4   166   346       1  886397596         Jackie Brown  1997   \n",
       "\n",
       "                                  genres  \n",
       "0                               [Comedy]  \n",
       "1  [Crime, Film-Noir, Mystery, Thriller]  \n",
       "2                   [Children's, Comedy]  \n",
       "3         [Drama, Romance, War, Western]  \n",
       "4                         [Crime, Drama]  "
      ]
     },
     "execution_count": 373,
     "metadata": {},
     "output_type": "execute_result"
    }
   ],
   "source": [
    "ratings_with_movies['genres'] = ratings_with_movies['genres'].apply(lambda x: x.split(\"|\"))\n",
    "ratings_with_movies.head()"
   ]
  },
  {
   "cell_type": "code",
   "execution_count": 375,
   "id": "37d86096",
   "metadata": {},
   "outputs": [
    {
     "name": "stdout",
     "output_type": "stream",
     "text": [
      "There are 19 genres in total in this dataset.\n"
     ]
    },
    {
     "data": {
      "text/plain": [
       "Counter({'Drama': 39895,\n",
       "         'Comedy': 29832,\n",
       "         'Action': 25589,\n",
       "         'Thriller': 21872,\n",
       "         'Romance': 19461,\n",
       "         'Adventure': 13753,\n",
       "         'Sci-Fi': 12730,\n",
       "         'War': 9398,\n",
       "         'Crime': 8055,\n",
       "         \"Children's\": 7182,\n",
       "         'Horror': 5317,\n",
       "         'Mystery': 5245,\n",
       "         'Musical': 4954,\n",
       "         'Animation': 3605,\n",
       "         'Western': 1854,\n",
       "         'Film-Noir': 1733,\n",
       "         'Fantasy': 1352,\n",
       "         'Documentary': 758,\n",
       "         'unknown': 10})"
      ]
     },
     "execution_count": 375,
     "metadata": {},
     "output_type": "execute_result"
    }
   ],
   "source": [
    "from collections import Counter\n",
    "\n",
    "genre_frequency = Counter(g for genres in ratings_with_movies['genres'] for g in genres)\n",
    "\n",
    "print(f\"There are {len(genre_frequency)} genres in total in this dataset.\")\n",
    "\n",
    "genre_frequency"
   ]
  },
  {
   "cell_type": "code",
   "execution_count": 376,
   "id": "67d83bf2",
   "metadata": {},
   "outputs": [
    {
     "name": "stdout",
     "output_type": "stream",
     "text": [
      "The 5 most common genres: \n",
      " [('Drama', 39895), ('Comedy', 29832), ('Action', 25589), ('Thriller', 21872), ('Romance', 19461)]\n"
     ]
    }
   ],
   "source": [
    "print(\"The 5 most common genres: \\n\", genre_frequency.most_common(5))"
   ]
  },
  {
   "cell_type": "markdown",
   "id": "831e7686",
   "metadata": {},
   "source": [
    "The top 5 genres are: `Drama`, `Comedy`, `Action`, `Thriller` and `Romance`.\n",
    "\n",
    "Let's also visualize genre popularity with a pie_chart."
   ]
  },
  {
   "cell_type": "code",
   "execution_count": 377,
   "id": "23dc7819",
   "metadata": {},
   "outputs": [
    {
     "name": "stdout",
     "output_type": "stream",
     "text": [
      "Requirement already satisfied: plotly in /Users/sun/.pyenv/versions/3.11.8/lib/python3.11/site-packages (5.24.1)\n",
      "Requirement already satisfied: tenacity>=6.2.0 in /Users/sun/.pyenv/versions/3.11.8/lib/python3.11/site-packages (from plotly) (9.0.0)\n",
      "Requirement already satisfied: packaging in /Users/sun/.pyenv/versions/3.11.8/lib/python3.11/site-packages (from plotly) (24.0)\n",
      "\n",
      "\u001b[1m[\u001b[0m\u001b[34;49mnotice\u001b[0m\u001b[1;39;49m]\u001b[0m\u001b[39;49m A new release of pip is available: \u001b[0m\u001b[31;49m24.2\u001b[0m\u001b[39;49m -> \u001b[0m\u001b[32;49m24.3.1\u001b[0m\n",
      "\u001b[1m[\u001b[0m\u001b[34;49mnotice\u001b[0m\u001b[1;39;49m]\u001b[0m\u001b[39;49m To update, run: \u001b[0m\u001b[32;49mpip install --upgrade pip\u001b[0m\n",
      "Note: you may need to restart the kernel to use updated packages.\n"
     ]
    }
   ],
   "source": [
    "pip install plotly"
   ]
  },
  {
   "cell_type": "code",
   "execution_count": 378,
   "id": "9f8c9ec8",
   "metadata": {},
   "outputs": [
    {
     "data": {
      "application/vnd.plotly.v1+json": {
       "config": {
        "plotlyServerURL": "https://plot.ly"
       },
       "data": [
        {
         "domain": {
          "x": [
           0,
           1
          ],
          "y": [
           0,
           1
          ]
         },
         "hole": 0.2,
         "hovertemplate": "genre=%{label}<br>count=%{value}<extra></extra>",
         "labels": [
          "Comedy",
          "Crime",
          "Film-Noir",
          "Mystery",
          "Thriller",
          "Children's",
          "Drama",
          "Romance",
          "War",
          "Western",
          "Sci-Fi",
          "Action",
          "Adventure",
          "Musical",
          "Documentary",
          "Animation",
          "Horror",
          "Fantasy",
          "unknown"
         ],
         "legendgroup": "",
         "name": "",
         "showlegend": true,
         "type": "pie",
         "values": [
          29832,
          8055,
          1733,
          5245,
          21872,
          7182,
          39895,
          19461,
          9398,
          1854,
          12730,
          25589,
          13753,
          4954,
          758,
          3605,
          5317,
          1352,
          10
         ]
        }
       ],
       "layout": {
        "legend": {
         "tracegroupgap": 0
        },
        "margin": {
         "b": 10,
         "l": 10,
         "r": 10,
         "t": 40
        },
        "template": {
         "data": {
          "bar": [
           {
            "error_x": {
             "color": "rgb(51,51,51)"
            },
            "error_y": {
             "color": "rgb(51,51,51)"
            },
            "marker": {
             "line": {
              "color": "rgb(237,237,237)",
              "width": 0.5
             },
             "pattern": {
              "fillmode": "overlay",
              "size": 10,
              "solidity": 0.2
             }
            },
            "type": "bar"
           }
          ],
          "barpolar": [
           {
            "marker": {
             "line": {
              "color": "rgb(237,237,237)",
              "width": 0.5
             },
             "pattern": {
              "fillmode": "overlay",
              "size": 10,
              "solidity": 0.2
             }
            },
            "type": "barpolar"
           }
          ],
          "carpet": [
           {
            "aaxis": {
             "endlinecolor": "rgb(51,51,51)",
             "gridcolor": "white",
             "linecolor": "white",
             "minorgridcolor": "white",
             "startlinecolor": "rgb(51,51,51)"
            },
            "baxis": {
             "endlinecolor": "rgb(51,51,51)",
             "gridcolor": "white",
             "linecolor": "white",
             "minorgridcolor": "white",
             "startlinecolor": "rgb(51,51,51)"
            },
            "type": "carpet"
           }
          ],
          "choropleth": [
           {
            "colorbar": {
             "outlinewidth": 0,
             "tickcolor": "rgb(237,237,237)",
             "ticklen": 6,
             "ticks": "inside"
            },
            "type": "choropleth"
           }
          ],
          "contour": [
           {
            "colorbar": {
             "outlinewidth": 0,
             "tickcolor": "rgb(237,237,237)",
             "ticklen": 6,
             "ticks": "inside"
            },
            "colorscale": [
             [
              0,
              "rgb(20,44,66)"
             ],
             [
              1,
              "rgb(90,179,244)"
             ]
            ],
            "type": "contour"
           }
          ],
          "contourcarpet": [
           {
            "colorbar": {
             "outlinewidth": 0,
             "tickcolor": "rgb(237,237,237)",
             "ticklen": 6,
             "ticks": "inside"
            },
            "type": "contourcarpet"
           }
          ],
          "heatmap": [
           {
            "colorbar": {
             "outlinewidth": 0,
             "tickcolor": "rgb(237,237,237)",
             "ticklen": 6,
             "ticks": "inside"
            },
            "colorscale": [
             [
              0,
              "rgb(20,44,66)"
             ],
             [
              1,
              "rgb(90,179,244)"
             ]
            ],
            "type": "heatmap"
           }
          ],
          "heatmapgl": [
           {
            "colorbar": {
             "outlinewidth": 0,
             "tickcolor": "rgb(237,237,237)",
             "ticklen": 6,
             "ticks": "inside"
            },
            "colorscale": [
             [
              0,
              "rgb(20,44,66)"
             ],
             [
              1,
              "rgb(90,179,244)"
             ]
            ],
            "type": "heatmapgl"
           }
          ],
          "histogram": [
           {
            "marker": {
             "pattern": {
              "fillmode": "overlay",
              "size": 10,
              "solidity": 0.2
             }
            },
            "type": "histogram"
           }
          ],
          "histogram2d": [
           {
            "colorbar": {
             "outlinewidth": 0,
             "tickcolor": "rgb(237,237,237)",
             "ticklen": 6,
             "ticks": "inside"
            },
            "colorscale": [
             [
              0,
              "rgb(20,44,66)"
             ],
             [
              1,
              "rgb(90,179,244)"
             ]
            ],
            "type": "histogram2d"
           }
          ],
          "histogram2dcontour": [
           {
            "colorbar": {
             "outlinewidth": 0,
             "tickcolor": "rgb(237,237,237)",
             "ticklen": 6,
             "ticks": "inside"
            },
            "colorscale": [
             [
              0,
              "rgb(20,44,66)"
             ],
             [
              1,
              "rgb(90,179,244)"
             ]
            ],
            "type": "histogram2dcontour"
           }
          ],
          "mesh3d": [
           {
            "colorbar": {
             "outlinewidth": 0,
             "tickcolor": "rgb(237,237,237)",
             "ticklen": 6,
             "ticks": "inside"
            },
            "type": "mesh3d"
           }
          ],
          "parcoords": [
           {
            "line": {
             "colorbar": {
              "outlinewidth": 0,
              "tickcolor": "rgb(237,237,237)",
              "ticklen": 6,
              "ticks": "inside"
             }
            },
            "type": "parcoords"
           }
          ],
          "pie": [
           {
            "automargin": true,
            "type": "pie"
           }
          ],
          "scatter": [
           {
            "fillpattern": {
             "fillmode": "overlay",
             "size": 10,
             "solidity": 0.2
            },
            "type": "scatter"
           }
          ],
          "scatter3d": [
           {
            "line": {
             "colorbar": {
              "outlinewidth": 0,
              "tickcolor": "rgb(237,237,237)",
              "ticklen": 6,
              "ticks": "inside"
             }
            },
            "marker": {
             "colorbar": {
              "outlinewidth": 0,
              "tickcolor": "rgb(237,237,237)",
              "ticklen": 6,
              "ticks": "inside"
             }
            },
            "type": "scatter3d"
           }
          ],
          "scattercarpet": [
           {
            "marker": {
             "colorbar": {
              "outlinewidth": 0,
              "tickcolor": "rgb(237,237,237)",
              "ticklen": 6,
              "ticks": "inside"
             }
            },
            "type": "scattercarpet"
           }
          ],
          "scattergeo": [
           {
            "marker": {
             "colorbar": {
              "outlinewidth": 0,
              "tickcolor": "rgb(237,237,237)",
              "ticklen": 6,
              "ticks": "inside"
             }
            },
            "type": "scattergeo"
           }
          ],
          "scattergl": [
           {
            "marker": {
             "colorbar": {
              "outlinewidth": 0,
              "tickcolor": "rgb(237,237,237)",
              "ticklen": 6,
              "ticks": "inside"
             }
            },
            "type": "scattergl"
           }
          ],
          "scattermapbox": [
           {
            "marker": {
             "colorbar": {
              "outlinewidth": 0,
              "tickcolor": "rgb(237,237,237)",
              "ticklen": 6,
              "ticks": "inside"
             }
            },
            "type": "scattermapbox"
           }
          ],
          "scatterpolar": [
           {
            "marker": {
             "colorbar": {
              "outlinewidth": 0,
              "tickcolor": "rgb(237,237,237)",
              "ticklen": 6,
              "ticks": "inside"
             }
            },
            "type": "scatterpolar"
           }
          ],
          "scatterpolargl": [
           {
            "marker": {
             "colorbar": {
              "outlinewidth": 0,
              "tickcolor": "rgb(237,237,237)",
              "ticklen": 6,
              "ticks": "inside"
             }
            },
            "type": "scatterpolargl"
           }
          ],
          "scatterternary": [
           {
            "marker": {
             "colorbar": {
              "outlinewidth": 0,
              "tickcolor": "rgb(237,237,237)",
              "ticklen": 6,
              "ticks": "inside"
             }
            },
            "type": "scatterternary"
           }
          ],
          "surface": [
           {
            "colorbar": {
             "outlinewidth": 0,
             "tickcolor": "rgb(237,237,237)",
             "ticklen": 6,
             "ticks": "inside"
            },
            "colorscale": [
             [
              0,
              "rgb(20,44,66)"
             ],
             [
              1,
              "rgb(90,179,244)"
             ]
            ],
            "type": "surface"
           }
          ],
          "table": [
           {
            "cells": {
             "fill": {
              "color": "rgb(237,237,237)"
             },
             "line": {
              "color": "white"
             }
            },
            "header": {
             "fill": {
              "color": "rgb(217,217,217)"
             },
             "line": {
              "color": "white"
             }
            },
            "type": "table"
           }
          ]
         },
         "layout": {
          "annotationdefaults": {
           "arrowhead": 0,
           "arrowwidth": 1
          },
          "autotypenumbers": "strict",
          "coloraxis": {
           "colorbar": {
            "outlinewidth": 0,
            "tickcolor": "rgb(237,237,237)",
            "ticklen": 6,
            "ticks": "inside"
           }
          },
          "colorscale": {
           "sequential": [
            [
             0,
             "rgb(20,44,66)"
            ],
            [
             1,
             "rgb(90,179,244)"
            ]
           ],
           "sequentialminus": [
            [
             0,
             "rgb(20,44,66)"
            ],
            [
             1,
             "rgb(90,179,244)"
            ]
           ]
          },
          "colorway": [
           "#F8766D",
           "#A3A500",
           "#00BF7D",
           "#00B0F6",
           "#E76BF3"
          ],
          "font": {
           "color": "rgb(51,51,51)"
          },
          "geo": {
           "bgcolor": "white",
           "lakecolor": "white",
           "landcolor": "rgb(237,237,237)",
           "showlakes": true,
           "showland": true,
           "subunitcolor": "white"
          },
          "hoverlabel": {
           "align": "left"
          },
          "hovermode": "closest",
          "paper_bgcolor": "white",
          "plot_bgcolor": "rgb(237,237,237)",
          "polar": {
           "angularaxis": {
            "gridcolor": "white",
            "linecolor": "white",
            "showgrid": true,
            "tickcolor": "rgb(51,51,51)",
            "ticks": "outside"
           },
           "bgcolor": "rgb(237,237,237)",
           "radialaxis": {
            "gridcolor": "white",
            "linecolor": "white",
            "showgrid": true,
            "tickcolor": "rgb(51,51,51)",
            "ticks": "outside"
           }
          },
          "scene": {
           "xaxis": {
            "backgroundcolor": "rgb(237,237,237)",
            "gridcolor": "white",
            "gridwidth": 2,
            "linecolor": "white",
            "showbackground": true,
            "showgrid": true,
            "tickcolor": "rgb(51,51,51)",
            "ticks": "outside",
            "zerolinecolor": "white"
           },
           "yaxis": {
            "backgroundcolor": "rgb(237,237,237)",
            "gridcolor": "white",
            "gridwidth": 2,
            "linecolor": "white",
            "showbackground": true,
            "showgrid": true,
            "tickcolor": "rgb(51,51,51)",
            "ticks": "outside",
            "zerolinecolor": "white"
           },
           "zaxis": {
            "backgroundcolor": "rgb(237,237,237)",
            "gridcolor": "white",
            "gridwidth": 2,
            "linecolor": "white",
            "showbackground": true,
            "showgrid": true,
            "tickcolor": "rgb(51,51,51)",
            "ticks": "outside",
            "zerolinecolor": "white"
           }
          },
          "shapedefaults": {
           "fillcolor": "black",
           "line": {
            "width": 0
           },
           "opacity": 0.3
          },
          "ternary": {
           "aaxis": {
            "gridcolor": "white",
            "linecolor": "white",
            "showgrid": true,
            "tickcolor": "rgb(51,51,51)",
            "ticks": "outside"
           },
           "baxis": {
            "gridcolor": "white",
            "linecolor": "white",
            "showgrid": true,
            "tickcolor": "rgb(51,51,51)",
            "ticks": "outside"
           },
           "bgcolor": "rgb(237,237,237)",
           "caxis": {
            "gridcolor": "white",
            "linecolor": "white",
            "showgrid": true,
            "tickcolor": "rgb(51,51,51)",
            "ticks": "outside"
           }
          },
          "xaxis": {
           "automargin": true,
           "gridcolor": "white",
           "linecolor": "white",
           "showgrid": true,
           "tickcolor": "rgb(51,51,51)",
           "ticks": "outside",
           "title": {
            "standoff": 15
           },
           "zerolinecolor": "white"
          },
          "yaxis": {
           "automargin": true,
           "gridcolor": "white",
           "linecolor": "white",
           "showgrid": true,
           "tickcolor": "rgb(51,51,51)",
           "ticks": "outside",
           "title": {
            "standoff": 15
           },
           "zerolinecolor": "white"
          }
         }
        },
        "title": {
         "text": "Genre Frequency Distribution"
        }
       }
      }
     },
     "metadata": {},
     "output_type": "display_data"
    }
   ],
   "source": [
    "import plotly.express as px\n",
    "\n",
    "genre_frequency_df = pd.DataFrame([genre_frequency]).T.reset_index()\n",
    "genre_frequency_df.columns = ['genre', 'count']\n",
    "\n",
    "# Plot Pie Chart (using Plotly)\n",
    "pie_chart = px.pie(\n",
    "    genre_frequency_df, \n",
    "    values='count', \n",
    "    names='genre', \n",
    "    title='Genre Frequency Distribution', \n",
    "    hole=0.2  # Add hole for donut-style chart\n",
    ")\n",
    "\n",
    "# Update layout and display\n",
    "pie_chart.update_layout(\n",
    "    margin=dict(l=10, r=10, t=40, b=10),\n",
    "    template='ggplot2'\n",
    ")\n",
    "\n",
    "pie_chart.show()"
   ]
  },
  {
   "cell_type": "markdown",
   "id": "fc2fdff2-285a-46ad-8fc1-9505588abdd3",
   "metadata": {},
   "source": [
    "#### (3) What is the distribution of movie ratings?"
   ]
  },
  {
   "cell_type": "code",
   "execution_count": 379,
   "id": "e65d9ad5",
   "metadata": {},
   "outputs": [
    {
     "data": {
      "text/plain": [
       "[1, 2, 3, 4, 5]"
      ]
     },
     "execution_count": 379,
     "metadata": {},
     "output_type": "execute_result"
    }
   ],
   "source": [
    "rate_list = list(set(rating_df.rating.tolist()))\n",
    "rate_list"
   ]
  },
  {
   "cell_type": "markdown",
   "id": "331165df",
   "metadata": {},
   "source": [
    "Ratings are made on a 5-star scale, with one-star increments (1 stars - 5 stars)."
   ]
  },
  {
   "cell_type": "code",
   "execution_count": 380,
   "id": "0c3c6d34-cf49-49eb-9bba-c4c354efc691",
   "metadata": {},
   "outputs": [
    {
     "name": "stderr",
     "output_type": "stream",
     "text": [
      "/var/folders/9_/rwbmnd2917s2ynq8fvvlmq_80000gn/T/ipykernel_20827/2492416878.py:1: FutureWarning:\n",
      "\n",
      "\n",
      "\n",
      "Passing `palette` without assigning `hue` is deprecated and will be removed in v0.14.0. Assign the `x` variable to `hue` and set `legend=False` for the same effect.\n",
      "\n",
      "\n"
     ]
    },
    {
     "data": {
      "image/png": "[encoded data removed]",
      "text/plain": [
       "<Figure size 640x480 with 1 Axes>"
      ]
     },
     "metadata": {},
     "output_type": "display_data"
    }
   ],
   "source": [
    "sns.countplot(x=\"rating\", data=rating_df, palette=\"viridis\")\n",
    "plt.title(\"Distribution of movie ratings\", fontsize=14)\n",
    "plt.show()"
   ]
  },
  {
   "cell_type": "code",
   "execution_count": 381,
   "id": "908d682f-b960-47e1-b07f-07b68e704b44",
   "metadata": {},
   "outputs": [
    {
     "name": "stdout",
     "output_type": "stream",
     "text": [
      "Mean global rating: 3.53.\n",
      "Mean rating per user: 3.59.\n"
     ]
    }
   ],
   "source": [
    "print(f\"Mean global rating: {round(rating_df['rating'].mean(),2)}.\")\n",
    "mean_ratings = rating_df.groupby('user')['rating'].mean()\n",
    "print(f\"Mean rating per user: {round(mean_ratings.mean(),2)}.\")"
   ]
  },
  {
   "cell_type": "markdown",
   "id": "0c16a8a4",
   "metadata": {},
   "source": [
    "The distribution is left-skewed (biased towards higher ratings), suggesting that users tend to give higher ratings rather than lower ones. Users might be more inclined to rate movies they enjoyed, which could explain the abundance of 4 and 5-star ratings. So for cold start problem, movies with few ratings (especially low-rated ones) might not get recommended, highlighting the importance of content-based filtering or metadata use."
   ]
  },
  {
   "cell_type": "markdown",
   "id": "a4e9db75-f777-414d-82a4-06491a222ed0",
   "metadata": {},
   "source": [
    "#### (4) Which movies are most frequently rated?"
   ]
  },
  {
   "cell_type": "code",
   "execution_count": 382,
   "id": "6ac4c38c",
   "metadata": {},
   "outputs": [
    {
     "data": {
      "text/plain": [
       "Index(['item', 'title', 'year', 'genres'], dtype='object')"
      ]
     },
     "execution_count": 382,
     "metadata": {},
     "output_type": "execute_result"
    }
   ],
   "source": [
    "movie_df.columns"
   ]
  },
  {
   "cell_type": "code",
   "execution_count": 384,
   "id": "abfd8f6e-cb15-4444-a88d-cfde4fba2336",
   "metadata": {},
   "outputs": [
    {
     "data": {
      "text/plain": [
       "title\n",
       "Star Wars                 583\n",
       "Contact                   509\n",
       "Fargo                     508\n",
       "Return of the Jedi        507\n",
       "Liar Liar                 485\n",
       "English Patient, The      481\n",
       "Scream                    478\n",
       "Toy Story                 452\n",
       "Air Force One             431\n",
       "Independence Day (ID4)    429\n",
       "Name: count, dtype: int64"
      ]
     },
     "execution_count": 384,
     "metadata": {},
     "output_type": "execute_result"
    }
   ],
   "source": [
    "movie_ratings = rating_df.merge(movie_df, left_on='item', right_on='item')\n",
    "movie_ratings['title'].value_counts()[0:10]"
   ]
  },
  {
   "cell_type": "markdown",
   "id": "84978c73-28c2-4093-9cdd-a7c05ecaa735",
   "metadata": {},
   "source": [
    "`Star Wars`, `Contact`, `Fargo` and `Return of the Jedi` have the most ratings."
   ]
  },
  {
   "cell_type": "markdown",
   "id": "2ea50fba-96fe-4b0b-ad93-5ef590656962",
   "metadata": {},
   "source": [
    "#### (5) What are the lowest and highest rated movies?"
   ]
  },
  {
   "cell_type": "code",
   "execution_count": 386,
   "id": "fb89ec2c-2f08-4591-8ff4-8d314fd32251",
   "metadata": {
    "scrolled": true
   },
   "outputs": [
    {
     "data": {
      "text/html": [
       "<div>\n",
       "<style scoped>\n",
       "    .dataframe tbody tr th:only-of-type {\n",
       "        vertical-align: middle;\n",
       "    }\n",
       "\n",
       "    .dataframe tbody tr th {\n",
       "        vertical-align: top;\n",
       "    }\n",
       "\n",
       "    .dataframe thead th {\n",
       "        text-align: right;\n",
       "    }\n",
       "</style>\n",
       "<table border=\"1\" class=\"dataframe\">\n",
       "  <thead>\n",
       "    <tr style=\"text-align: right;\">\n",
       "      <th></th>\n",
       "      <th>item</th>\n",
       "      <th>title</th>\n",
       "      <th>year</th>\n",
       "      <th>genres</th>\n",
       "    </tr>\n",
       "  </thead>\n",
       "  <tbody>\n",
       "    <tr>\n",
       "      <th>313</th>\n",
       "      <td>314</td>\n",
       "      <td>3 Ninjas: High Noon At Mega Mountain</td>\n",
       "      <td>1998</td>\n",
       "      <td>Action|Children's</td>\n",
       "    </tr>\n",
       "  </tbody>\n",
       "</table>\n",
       "</div>"
      ],
      "text/plain": [
       "     item                                 title  year             genres\n",
       "313   314  3 Ninjas: High Noon At Mega Mountain  1998  Action|Children's"
      ]
     },
     "execution_count": 386,
     "metadata": {},
     "output_type": "execute_result"
    }
   ],
   "source": [
    "mean_ratings = rating_df.groupby('item')[['rating']].mean()\n",
    "lowest_rated = mean_ratings['rating'].idxmin()\n",
    "movie_df[movie_df['item']==lowest_rated]"
   ]
  },
  {
   "cell_type": "code",
   "execution_count": 387,
   "id": "883c2971-4d2e-45d9-8cf3-3f0b8bbfa078",
   "metadata": {},
   "outputs": [
    {
     "data": {
      "text/html": [
       "<div>\n",
       "<style scoped>\n",
       "    .dataframe tbody tr th:only-of-type {\n",
       "        vertical-align: middle;\n",
       "    }\n",
       "\n",
       "    .dataframe tbody tr th {\n",
       "        vertical-align: top;\n",
       "    }\n",
       "\n",
       "    .dataframe thead th {\n",
       "        text-align: right;\n",
       "    }\n",
       "</style>\n",
       "<table border=\"1\" class=\"dataframe\">\n",
       "  <thead>\n",
       "    <tr style=\"text-align: right;\">\n",
       "      <th></th>\n",
       "      <th>user</th>\n",
       "      <th>item</th>\n",
       "      <th>rating</th>\n",
       "      <th>timestamp</th>\n",
       "    </tr>\n",
       "  </thead>\n",
       "  <tbody>\n",
       "    <tr>\n",
       "      <th>2997</th>\n",
       "      <td>13</td>\n",
       "      <td>314</td>\n",
       "      <td>1</td>\n",
       "      <td>884538485</td>\n",
       "    </tr>\n",
       "    <tr>\n",
       "      <th>3425</th>\n",
       "      <td>2</td>\n",
       "      <td>314</td>\n",
       "      <td>1</td>\n",
       "      <td>888980085</td>\n",
       "    </tr>\n",
       "    <tr>\n",
       "      <th>13859</th>\n",
       "      <td>206</td>\n",
       "      <td>314</td>\n",
       "      <td>1</td>\n",
       "      <td>888179948</td>\n",
       "    </tr>\n",
       "    <tr>\n",
       "      <th>41251</th>\n",
       "      <td>609</td>\n",
       "      <td>314</td>\n",
       "      <td>1</td>\n",
       "      <td>886895941</td>\n",
       "    </tr>\n",
       "    <tr>\n",
       "      <th>78117</th>\n",
       "      <td>537</td>\n",
       "      <td>314</td>\n",
       "      <td>1</td>\n",
       "      <td>886029239</td>\n",
       "    </tr>\n",
       "  </tbody>\n",
       "</table>\n",
       "</div>"
      ],
      "text/plain": [
       "       user  item  rating  timestamp\n",
       "2997     13   314       1  884538485\n",
       "3425      2   314       1  888980085\n",
       "13859   206   314       1  888179948\n",
       "41251   609   314       1  886895941\n",
       "78117   537   314       1  886029239"
      ]
     },
     "execution_count": 387,
     "metadata": {},
     "output_type": "execute_result"
    }
   ],
   "source": [
    "rating_df[rating_df['item']==lowest_rated]"
   ]
  },
  {
   "cell_type": "markdown",
   "id": "b8f53942-708f-4d9b-81c7-d4d9194a75e7",
   "metadata": {},
   "source": [
    "The lowest rated movie is `3 Ninjas: High Noon At Mega Mountain (1998)`. However, there are only 5 ratings which may be biased."
   ]
  },
  {
   "cell_type": "code",
   "execution_count": 389,
   "id": "67321cf2-509f-43c4-9c24-b2f0e6caee72",
   "metadata": {},
   "outputs": [
    {
     "data": {
      "text/html": [
       "<div>\n",
       "<style scoped>\n",
       "    .dataframe tbody tr th:only-of-type {\n",
       "        vertical-align: middle;\n",
       "    }\n",
       "\n",
       "    .dataframe tbody tr th {\n",
       "        vertical-align: top;\n",
       "    }\n",
       "\n",
       "    .dataframe thead th {\n",
       "        text-align: right;\n",
       "    }\n",
       "</style>\n",
       "<table border=\"1\" class=\"dataframe\">\n",
       "  <thead>\n",
       "    <tr style=\"text-align: right;\">\n",
       "      <th></th>\n",
       "      <th>item</th>\n",
       "      <th>title</th>\n",
       "      <th>year</th>\n",
       "      <th>genres</th>\n",
       "    </tr>\n",
       "  </thead>\n",
       "  <tbody>\n",
       "    <tr>\n",
       "      <th>813</th>\n",
       "      <td>814</td>\n",
       "      <td>Great Day in Harlem, A</td>\n",
       "      <td>1994</td>\n",
       "      <td>Documentary</td>\n",
       "    </tr>\n",
       "  </tbody>\n",
       "</table>\n",
       "</div>"
      ],
      "text/plain": [
       "     item                   title  year       genres\n",
       "813   814  Great Day in Harlem, A  1994  Documentary"
      ]
     },
     "execution_count": 389,
     "metadata": {},
     "output_type": "execute_result"
    }
   ],
   "source": [
    "highest_rated = mean_ratings['rating'].idxmax()\n",
    "movie_df[movie_df['item'] == highest_rated]"
   ]
  },
  {
   "cell_type": "code",
   "execution_count": 390,
   "id": "8fcffcc7-11ca-41e5-9cc8-fec9c941f929",
   "metadata": {},
   "outputs": [
    {
     "data": {
      "text/html": [
       "<div>\n",
       "<style scoped>\n",
       "    .dataframe tbody tr th:only-of-type {\n",
       "        vertical-align: middle;\n",
       "    }\n",
       "\n",
       "    .dataframe tbody tr th {\n",
       "        vertical-align: top;\n",
       "    }\n",
       "\n",
       "    .dataframe thead th {\n",
       "        text-align: right;\n",
       "    }\n",
       "</style>\n",
       "<table border=\"1\" class=\"dataframe\">\n",
       "  <thead>\n",
       "    <tr style=\"text-align: right;\">\n",
       "      <th></th>\n",
       "      <th>user</th>\n",
       "      <th>item</th>\n",
       "      <th>rating</th>\n",
       "      <th>timestamp</th>\n",
       "    </tr>\n",
       "  </thead>\n",
       "  <tbody>\n",
       "    <tr>\n",
       "      <th>6519</th>\n",
       "      <td>13</td>\n",
       "      <td>814</td>\n",
       "      <td>5</td>\n",
       "      <td>886302261</td>\n",
       "    </tr>\n",
       "  </tbody>\n",
       "</table>\n",
       "</div>"
      ],
      "text/plain": [
       "      user  item  rating  timestamp\n",
       "6519    13   814       5  886302261"
      ]
     },
     "execution_count": 390,
     "metadata": {},
     "output_type": "execute_result"
    }
   ],
   "source": [
    "rating_df[rating_df['item']==highest_rated]"
   ]
  },
  {
   "cell_type": "markdown",
   "id": "fdb22b44-9fb7-4baa-97dd-d5f9a36da583",
   "metadata": {},
   "source": [
    "The highest rated movie is `Great Day in Harlem, A (1994)` but there is only one rating which is not representative."
   ]
  },
  {
   "cell_type": "markdown",
   "id": "e4ca3eba-ea7c-41bd-8aff-7a1ad4a016fd",
   "metadata": {},
   "source": [
    "#### (6) Derive a less biased rating metric for a movie\n",
    "\n",
    "From the analysis before, we find that some extreme mean rating are biased because of fewer ratings. We hope to find a metric that could help to better represent the average rating with varing number of ratings."
   ]
  },
  {
   "cell_type": "markdown",
   "id": "5d8d62be-1f5f-4e19-b726-f711a488c13f",
   "metadata": {},
   "source": [
    "##### Bayesian Average\n",
    "\n",
    "[Bayesian Average](https://en.wikipedia.org/wiki/Bayesian_average) is defined as:\n",
    "\n",
    "$r_{i} = \\frac{C \\times m + \\Sigma{\\text{reviews}}}{C+N}$\n",
    "\n",
    "where $C$ represents our confidence, $m$ represents our prior, and $N$ is the total number of reviews for movie $i$. In this case, our prior $m$ will be the average mean rating across all movies. By defintion, C represents \"the typical data set size\". Let's make $C$ be the average number of ratings for a given movie."
   ]
  },
  {
   "cell_type": "code",
   "execution_count": 391,
   "id": "2bd41357-efb8-4140-a129-b3c7b96dd875",
   "metadata": {},
   "outputs": [
    {
     "data": {
      "text/html": [
       "<div>\n",
       "<style scoped>\n",
       "    .dataframe tbody tr th:only-of-type {\n",
       "        vertical-align: middle;\n",
       "    }\n",
       "\n",
       "    .dataframe tbody tr th {\n",
       "        vertical-align: top;\n",
       "    }\n",
       "\n",
       "    .dataframe thead th {\n",
       "        text-align: right;\n",
       "    }\n",
       "</style>\n",
       "<table border=\"1\" class=\"dataframe\">\n",
       "  <thead>\n",
       "    <tr style=\"text-align: right;\">\n",
       "      <th></th>\n",
       "      <th>count</th>\n",
       "      <th>mean</th>\n",
       "    </tr>\n",
       "    <tr>\n",
       "      <th>item</th>\n",
       "      <th></th>\n",
       "      <th></th>\n",
       "    </tr>\n",
       "  </thead>\n",
       "  <tbody>\n",
       "    <tr>\n",
       "      <th>1</th>\n",
       "      <td>452</td>\n",
       "      <td>3.878319</td>\n",
       "    </tr>\n",
       "    <tr>\n",
       "      <th>2</th>\n",
       "      <td>131</td>\n",
       "      <td>3.206107</td>\n",
       "    </tr>\n",
       "    <tr>\n",
       "      <th>3</th>\n",
       "      <td>90</td>\n",
       "      <td>3.033333</td>\n",
       "    </tr>\n",
       "    <tr>\n",
       "      <th>4</th>\n",
       "      <td>209</td>\n",
       "      <td>3.550239</td>\n",
       "    </tr>\n",
       "    <tr>\n",
       "      <th>5</th>\n",
       "      <td>86</td>\n",
       "      <td>3.302326</td>\n",
       "    </tr>\n",
       "  </tbody>\n",
       "</table>\n",
       "</div>"
      ],
      "text/plain": [
       "      count      mean\n",
       "item                 \n",
       "1       452  3.878319\n",
       "2       131  3.206107\n",
       "3        90  3.033333\n",
       "4       209  3.550239\n",
       "5        86  3.302326"
      ]
     },
     "execution_count": 391,
     "metadata": {},
     "output_type": "execute_result"
    }
   ],
   "source": [
    "movie_stats = rating_df.groupby('item')['rating'].agg(['count', 'mean'])\n",
    "movie_stats.head()"
   ]
  },
  {
   "cell_type": "code",
   "execution_count": 392,
   "id": "c16d7487-43ad-487d-8a3d-7357b13f7997",
   "metadata": {},
   "outputs": [
    {
     "name": "stdout",
     "output_type": "stream",
     "text": [
      "Average number of ratings for a given movie: 59.45\n",
      "Average rating for a given movie: 3.08\n"
     ]
    }
   ],
   "source": [
    "C = movie_stats['count'].mean()\n",
    "m = movie_stats['mean'].mean()\n",
    "\n",
    "print(f\"Average number of ratings for a given movie: {C:.2f}\")\n",
    "print(f\"Average rating for a given movie: {m:.2f}\")\n",
    "\n",
    "def bayesian_avg(ratings):\n",
    "    bayesian_avg = (C*m+ratings.sum())/(C+ratings.count())\n",
    "    return round(bayesian_avg, 3)"
   ]
  },
  {
   "cell_type": "code",
   "execution_count": 393,
   "id": "cee87999-fd83-438f-8ece-c9182e273da0",
   "metadata": {},
   "outputs": [],
   "source": [
    "bayesian_avg_ratings = rating_df.groupby('item')['rating'].agg(bayesian_avg).reset_index()\n",
    "bayesian_avg_ratings.columns = ['item', 'bayesian_avg']\n",
    "movie_stats = movie_stats.merge(bayesian_avg_ratings, on='item')"
   ]
  },
  {
   "cell_type": "code",
   "execution_count": 394,
   "id": "2b2df0bc-eed5-41e5-8df2-0186aba9b665",
   "metadata": {},
   "outputs": [
    {
     "data": {
      "text/html": [
       "<div>\n",
       "<style scoped>\n",
       "    .dataframe tbody tr th:only-of-type {\n",
       "        vertical-align: middle;\n",
       "    }\n",
       "\n",
       "    .dataframe tbody tr th {\n",
       "        vertical-align: top;\n",
       "    }\n",
       "\n",
       "    .dataframe thead th {\n",
       "        text-align: right;\n",
       "    }\n",
       "</style>\n",
       "<table border=\"1\" class=\"dataframe\">\n",
       "  <thead>\n",
       "    <tr style=\"text-align: right;\">\n",
       "      <th></th>\n",
       "      <th>item</th>\n",
       "      <th>count</th>\n",
       "      <th>mean</th>\n",
       "      <th>bayesian_avg</th>\n",
       "    </tr>\n",
       "  </thead>\n",
       "  <tbody>\n",
       "    <tr>\n",
       "      <th>0</th>\n",
       "      <td>1</td>\n",
       "      <td>452</td>\n",
       "      <td>3.878319</td>\n",
       "      <td>3.785</td>\n",
       "    </tr>\n",
       "    <tr>\n",
       "      <th>1</th>\n",
       "      <td>2</td>\n",
       "      <td>131</td>\n",
       "      <td>3.206107</td>\n",
       "      <td>3.166</td>\n",
       "    </tr>\n",
       "    <tr>\n",
       "      <th>2</th>\n",
       "      <td>3</td>\n",
       "      <td>90</td>\n",
       "      <td>3.033333</td>\n",
       "      <td>3.050</td>\n",
       "    </tr>\n",
       "    <tr>\n",
       "      <th>3</th>\n",
       "      <td>4</td>\n",
       "      <td>209</td>\n",
       "      <td>3.550239</td>\n",
       "      <td>3.445</td>\n",
       "    </tr>\n",
       "    <tr>\n",
       "      <th>4</th>\n",
       "      <td>5</td>\n",
       "      <td>86</td>\n",
       "      <td>3.302326</td>\n",
       "      <td>3.210</td>\n",
       "    </tr>\n",
       "  </tbody>\n",
       "</table>\n",
       "</div>"
      ],
      "text/plain": [
       "   item  count      mean  bayesian_avg\n",
       "0     1    452  3.878319         3.785\n",
       "1     2    131  3.206107         3.166\n",
       "2     3     90  3.033333         3.050\n",
       "3     4    209  3.550239         3.445\n",
       "4     5     86  3.302326         3.210"
      ]
     },
     "execution_count": 394,
     "metadata": {},
     "output_type": "execute_result"
    }
   ],
   "source": [
    "movie_stats.head()"
   ]
  },
  {
   "cell_type": "code",
   "execution_count": 397,
   "id": "a9be8d35-c0ca-4acb-9605-b3b172837b38",
   "metadata": {},
   "outputs": [
    {
     "data": {
      "text/html": [
       "<div>\n",
       "<style scoped>\n",
       "    .dataframe tbody tr th:only-of-type {\n",
       "        vertical-align: middle;\n",
       "    }\n",
       "\n",
       "    .dataframe tbody tr th {\n",
       "        vertical-align: top;\n",
       "    }\n",
       "\n",
       "    .dataframe thead th {\n",
       "        text-align: right;\n",
       "    }\n",
       "</style>\n",
       "<table border=\"1\" class=\"dataframe\">\n",
       "  <thead>\n",
       "    <tr style=\"text-align: right;\">\n",
       "      <th></th>\n",
       "      <th>item</th>\n",
       "      <th>count</th>\n",
       "      <th>mean</th>\n",
       "      <th>bayesian_avg</th>\n",
       "      <th>title</th>\n",
       "    </tr>\n",
       "  </thead>\n",
       "  <tbody>\n",
       "    <tr>\n",
       "      <th>49</th>\n",
       "      <td>50</td>\n",
       "      <td>583</td>\n",
       "      <td>4.358491</td>\n",
       "      <td>4.240</td>\n",
       "      <td>Star Wars</td>\n",
       "    </tr>\n",
       "    <tr>\n",
       "      <th>317</th>\n",
       "      <td>318</td>\n",
       "      <td>298</td>\n",
       "      <td>4.466443</td>\n",
       "      <td>4.235</td>\n",
       "      <td>Schindler's List</td>\n",
       "    </tr>\n",
       "    <tr>\n",
       "      <th>63</th>\n",
       "      <td>64</td>\n",
       "      <td>283</td>\n",
       "      <td>4.445230</td>\n",
       "      <td>4.208</td>\n",
       "      <td>Shawshank Redemption, The</td>\n",
       "    </tr>\n",
       "    <tr>\n",
       "      <th>482</th>\n",
       "      <td>483</td>\n",
       "      <td>243</td>\n",
       "      <td>4.456790</td>\n",
       "      <td>4.185</td>\n",
       "      <td>Casablanca</td>\n",
       "    </tr>\n",
       "    <tr>\n",
       "      <th>11</th>\n",
       "      <td>12</td>\n",
       "      <td>267</td>\n",
       "      <td>4.385768</td>\n",
       "      <td>4.147</td>\n",
       "      <td>Usual Suspects, The</td>\n",
       "    </tr>\n",
       "  </tbody>\n",
       "</table>\n",
       "</div>"
      ],
      "text/plain": [
       "     item  count      mean  bayesian_avg                      title\n",
       "49     50    583  4.358491         4.240                  Star Wars\n",
       "317   318    298  4.466443         4.235           Schindler's List\n",
       "63     64    283  4.445230         4.208  Shawshank Redemption, The\n",
       "482   483    243  4.456790         4.185                 Casablanca\n",
       "11     12    267  4.385768         4.147        Usual Suspects, The"
      ]
     },
     "execution_count": 397,
     "metadata": {},
     "output_type": "execute_result"
    }
   ],
   "source": [
    "movie_stats = movie_stats.merge(movie_df[['item', 'title']], left_on='item', right_on='item')\n",
    "movie_stats.sort_values('bayesian_avg', ascending=False).head()"
   ]
  },
  {
   "cell_type": "markdown",
   "id": "1e58bfbe-601a-4991-94ab-c7da5d277e19",
   "metadata": {},
   "source": [
    "Using the Bayesian average, we see that `Star Wars`, `Schindler's List`, and `Shawshank Redemption` are the most highly rated movies. This result makes much more sense since these movies are also on the top list from many rating sites."
   ]
  },
  {
   "cell_type": "code",
   "execution_count": 398,
   "id": "605ce885-24a3-45ea-981e-67815a0490c9",
   "metadata": {},
   "outputs": [
    {
     "data": {
      "text/html": [
       "<div>\n",
       "<style scoped>\n",
       "    .dataframe tbody tr th:only-of-type {\n",
       "        vertical-align: middle;\n",
       "    }\n",
       "\n",
       "    .dataframe tbody tr th {\n",
       "        vertical-align: top;\n",
       "    }\n",
       "\n",
       "    .dataframe thead th {\n",
       "        text-align: right;\n",
       "    }\n",
       "</style>\n",
       "<table border=\"1\" class=\"dataframe\">\n",
       "  <thead>\n",
       "    <tr style=\"text-align: right;\">\n",
       "      <th></th>\n",
       "      <th>item</th>\n",
       "      <th>count</th>\n",
       "      <th>mean</th>\n",
       "      <th>bayesian_avg</th>\n",
       "      <th>title</th>\n",
       "    </tr>\n",
       "  </thead>\n",
       "  <tbody>\n",
       "    <tr>\n",
       "      <th>687</th>\n",
       "      <td>688</td>\n",
       "      <td>44</td>\n",
       "      <td>1.840909</td>\n",
       "      <td>2.551</td>\n",
       "      <td>Leave It to Beaver</td>\n",
       "    </tr>\n",
       "    <tr>\n",
       "      <th>686</th>\n",
       "      <td>687</td>\n",
       "      <td>69</td>\n",
       "      <td>2.188406</td>\n",
       "      <td>2.599</td>\n",
       "      <td>McHale's Navy</td>\n",
       "    </tr>\n",
       "    <tr>\n",
       "      <th>121</th>\n",
       "      <td>122</td>\n",
       "      <td>106</td>\n",
       "      <td>2.339623</td>\n",
       "      <td>2.604</td>\n",
       "      <td>Cable Guy, The</td>\n",
       "    </tr>\n",
       "    <tr>\n",
       "      <th>889</th>\n",
       "      <td>890</td>\n",
       "      <td>43</td>\n",
       "      <td>1.953488</td>\n",
       "      <td>2.605</td>\n",
       "      <td>Mortal Kombat: Annihilation</td>\n",
       "    </tr>\n",
       "    <tr>\n",
       "      <th>987</th>\n",
       "      <td>988</td>\n",
       "      <td>86</td>\n",
       "      <td>2.313953</td>\n",
       "      <td>2.625</td>\n",
       "      <td>Beautician and the Beast, The</td>\n",
       "    </tr>\n",
       "  </tbody>\n",
       "</table>\n",
       "</div>"
      ],
      "text/plain": [
       "     item  count      mean  bayesian_avg                          title\n",
       "687   688     44  1.840909         2.551             Leave It to Beaver\n",
       "686   687     69  2.188406         2.599                  McHale's Navy\n",
       "121   122    106  2.339623         2.604                 Cable Guy, The\n",
       "889   890     43  1.953488         2.605    Mortal Kombat: Annihilation\n",
       "987   988     86  2.313953         2.625  Beautician and the Beast, The"
      ]
     },
     "execution_count": 398,
     "metadata": {},
     "output_type": "execute_result"
    }
   ],
   "source": [
    "movie_stats.sort_values('bayesian_avg', ascending=True).head()"
   ]
  },
  {
   "cell_type": "markdown",
   "id": "2fbab52b",
   "metadata": {},
   "source": [
    "### 4. A Glimpse at User dat"
   ]
  },
  {
   "cell_type": "code",
   "execution_count": 399,
   "id": "a0117874",
   "metadata": {},
   "outputs": [
    {
     "name": "stdout",
     "output_type": "stream",
     "text": [
      "   user  item  rating  timestamp    age gender  occupation zipcode  \\\n",
      "0   196   242       3  881250949  45-49      M          20   55105   \n",
      "1   186   302       3  891717742  35-44      F           6   00000   \n",
      "2    22   377       1  878887116  25-34      M          20   40206   \n",
      "3   244    51       2  880606923  25-34      M          19   80525   \n",
      "4   166   346       1  886397596  45-49      M           3   55113   \n",
      "\n",
      "            director                                             actors  \n",
      "0         Jan Svěrák  Andrei Khalimon, Zdeněk Svěrák, Libuše Šafránk...  \n",
      "1      Curtis Hanson  Guy Pearce, Russell Crowe, Kevin Spacey, Kim B...  \n",
      "2                NaN                                                NaN  \n",
      "3       Edward Zwick  Brad Pitt, Anthony Hopkins, Aidan Quinn, Julia...  \n",
      "4  Quentin Tarantino  Pam Grier, Samuel L. Jackson, Robert De Niro, ...  \n"
     ]
    }
   ],
   "source": [
    "# Merge ratings with user data\n",
    "user_df.rename(columns={'userid': 'user'}, inplace=True)\n",
    "ratings_with_users = pd.merge(rating_df, user_df, on='user', how='left')\n",
    "\n",
    "semantics_info = fetched_movies[['MovieLens_ID', 'Director', 'Actors']]\n",
    "semantics_info = semantics_info.rename(columns={'MovieLens_ID': 'item', 'Actors': 'actors', 'Director': 'director'})\n",
    "\n",
    "ratings_with_users = pd.merge(ratings_with_users, semantics_info, on='item', how='left')\n",
    "                 \n",
    "# Preview the merged data\n",
    "print(ratings_with_users.head())"
   ]
  },
  {
   "cell_type": "code",
   "execution_count": 400,
   "id": "e9bb58d4",
   "metadata": {},
   "outputs": [
    {
     "data": {
      "image/png": "[encoded data removed]",
      "text/plain": [
       "<Figure size 640x480 with 1 Axes>"
      ]
     },
     "metadata": {},
     "output_type": "display_data"
    }
   ],
   "source": [
    "# Gender distribution\n",
    "gender_counts = ratings_with_users['gender'].value_counts()\n",
    "gender_counts.plot(kind='bar', color=['blue', 'pink'], title=\"Gender Distribution\")\n",
    "plt.xlabel('Gender')\n",
    "plt.ylabel('Count')\n",
    "plt.xticks(rotation=0)\n",
    "plt.show()"
   ]
  },
  {
   "cell_type": "code",
   "execution_count": 401,
   "id": "6749ae5a",
   "metadata": {},
   "outputs": [
    {
     "data": {
      "image/png": "[encoded data removed]",
      "text/plain": [
       "<Figure size 800x500 with 1 Axes>"
      ]
     },
     "metadata": {},
     "output_type": "display_data"
    }
   ],
   "source": [
    "# Age distribution\n",
    "plt.figure(figsize=(8, 5))\n",
    "sns.histplot(ratings_with_users['age'], kde=True, bins=10, color='green')\n",
    "plt.title('Age Distribution')\n",
    "plt.xlabel('Age')\n",
    "plt.ylabel('Frequency')\n",
    "plt.show()"
   ]
  },
  {
   "cell_type": "code",
   "execution_count": 402,
   "id": "c8388522",
   "metadata": {},
   "outputs": [
    {
     "data": {
      "text/plain": [
       "Index(['user', 'item', 'rating', 'timestamp', 'age', 'gender', 'occupation',\n",
       "       'zipcode', 'director', 'actors'],\n",
       "      dtype='object')"
      ]
     },
     "execution_count": 402,
     "metadata": {},
     "output_type": "execute_result"
    }
   ],
   "source": [
    "ratings_with_users.columns"
   ]
  },
  {
   "cell_type": "code",
   "execution_count": 403,
   "id": "83d28851",
   "metadata": {},
   "outputs": [
    {
     "name": "stderr",
     "output_type": "stream",
     "text": [
      "/var/folders/9_/rwbmnd2917s2ynq8fvvlmq_80000gn/T/ipykernel_20827/645789862.py:4: FutureWarning:\n",
      "\n",
      "\n",
      "\n",
      "Passing `palette` without assigning `hue` is deprecated and will be removed in v0.14.0. Assign the `x` variable to `hue` and set `legend=False` for the same effect.\n",
      "\n",
      "\n"
     ]
    },
    {
     "data": {
      "image/png": "[encoded data removed]",
      "text/plain": [
       "<Figure size 1000x600 with 1 Axes>"
      ]
     },
     "metadata": {},
     "output_type": "display_data"
    }
   ],
   "source": [
    "# Occupation distribution\n",
    "plt.figure(figsize=(10, 6))\n",
    "occupation_counts = ratings_with_users['occupation'].value_counts()\n",
    "sns.barplot(x=occupation_counts.index, y=occupation_counts.values, palette=\"viridis\")\n",
    "plt.title('Occupation Distribution')\n",
    "plt.xlabel('Occupation')\n",
    "plt.ylabel('Count')\n",
    "plt.xticks(rotation=45)\n",
    "plt.show()"
   ]
  },
  {
   "cell_type": "markdown",
   "id": "77ebe258",
   "metadata": {},
   "source": [
    "OCCUPATIONS_100K = {\n",
    "        \"administrator\": 0,\n",
    "        \"artist\": 1,\n",
    "        \"doctor\": 2,\n",
    "        \"educator\": 3,\n",
    "        \"engineer\": 4,\n",
    "        \"entertainment\": 5,\n",
    "        \"executive\": 6,\n",
    "        \"healthcare\": 7,\n",
    "        \"homemaker\": 8,\n",
    "        \"lawyer\": 9,\n",
    "        \"librarian\": 10,\n",
    "        \"marketing\": 11,\n",
    "        \"none\": 12,\n",
    "        \"other\": 13,\n",
    "        \"programmer\": 14,\n",
    "        \"retired\": 15,\n",
    "        \"salesman\": 16,\n",
    "        \"scientist\": 17,\n",
    "        \"student\": 18,\n",
    "        \"technician\": 19,\n",
    "        \"writer\": 20\n",
    "    }"
   ]
  },
  {
   "cell_type": "markdown",
   "id": "640e67b2",
   "metadata": {},
   "source": [
    "The bar chart clearly shows that students (occupation 18) are the largest group in this data set. "
   ]
  },
  {
   "cell_type": "code",
   "execution_count": 404,
   "id": "54271dbd",
   "metadata": {},
   "outputs": [
    {
     "name": "stdout",
     "output_type": "stream",
     "text": [
      "count    943.000000\n",
      "mean       3.588191\n",
      "std        0.445233\n",
      "min        1.491954\n",
      "25%        3.323054\n",
      "50%        3.620690\n",
      "75%        3.869565\n",
      "max        4.869565\n",
      "Name: rating, dtype: float64\n",
      "Most active users:\n",
      " user\n",
      "405    737\n",
      "655    685\n",
      "13     636\n",
      "450    540\n",
      "276    518\n",
      "416    493\n",
      "537    490\n",
      "303    484\n",
      "234    480\n",
      "393    448\n",
      "dtype: int64\n"
     ]
    }
   ],
   "source": [
    "# Number of ratings per user\n",
    "ratings_per_user = ratings_with_users.groupby('user').size()\n",
    "\n",
    "# Average rating per user\n",
    "avg_rating_per_user = ratings_with_users.groupby('user')['rating'].mean()\n",
    "print(avg_rating_per_user.describe())\n",
    "\n",
    "# Most active users\n",
    "most_active_users = ratings_per_user.sort_values(ascending=False).head(10)\n",
    "print(\"Most active users:\\n\", most_active_users)\n"
   ]
  }
 ],
 "metadata": {
  "kernelspec": {
   "display_name": "recommender",
   "language": "python",
   "name": "recommender"
  },
  "language_info": {
   "codemirror_mode": {
    "name": "ipython",
    "version": 3
   },
   "file_extension": ".py",
   "mimetype": "text/x-python",
   "name": "python",
   "nbconvert_exporter": "python",
   "pygments_lexer": "ipython3",
   "version": "3.11.8"
  }
 },
 "nbformat": 4,
 "nbformat_minor": 5
}
